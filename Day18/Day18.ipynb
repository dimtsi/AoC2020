{
 "cells": [
  {
   "cell_type": "code",
   "execution_count": 1,
   "metadata": {},
   "outputs": [
    {
     "data": {
      "text/plain": [
       "['9+4+(3+(6*5+9*2*4)*9)',\n",
       " '((7+6)+2*6+4*2+9)*6+5',\n",
       " '7*3*9*6+(4+2+4*9)+7',\n",
       " '9+(9*3*3*(9+5+4)+4)',\n",
       " '(8*5+(7+5+3+6)*9+7*(9*8+7*2))*8']"
      ]
     },
     "execution_count": 1,
     "metadata": {},
     "output_type": "execute_result"
    }
   ],
   "source": [
    "with open('input.txt', \"r\") as f:\n",
    "    lines = f.read().rstrip().split('\\n')\n",
    "lines = list(map(lambda x: x.replace(\" \", \"\"), lines))\n",
    "lines[:5]"
   ]
  },
  {
   "cell_type": "code",
   "execution_count": 2,
   "metadata": {},
   "outputs": [
    {
     "name": "stdout",
     "output_type": "stream",
     "text": [
      "((7+6)+2*6+4*2+9)*6+5\n"
     ]
    },
    {
     "data": {
      "text/plain": [
       "{1: 5, 0: 16}"
      ]
     },
     "execution_count": 2,
     "metadata": {},
     "output_type": "execute_result"
    }
   ],
   "source": [
    "##Copy-paste from https://stackoverflow.com/questions/29991917/indices-of-matching-parentheses-in-python/29992065\n",
    "\n",
    "def find_matching_parentheses(text):\n",
    "    istart = []  # stack of indices of opening parentheses\n",
    "    d = {}\n",
    "\n",
    "    for i, c in enumerate(text):\n",
    "        if c == '(':\n",
    "             istart.append(i)\n",
    "        if c == ')':\n",
    "            try:\n",
    "                d[istart.pop()] = i\n",
    "            except IndexError:\n",
    "                print('Too many closing parentheses')\n",
    "    if istart:  # check if stack is empty afterwards\n",
    "        print('Too many opening parentheses')\n",
    "    return d\n",
    "\n",
    "print(lines[1])\n",
    "find_matching_parentheses(lines[1])"
   ]
  },
  {
   "cell_type": "code",
   "execution_count": 3,
   "metadata": {},
   "outputs": [],
   "source": [
    "def calc_num(x, y, op):\n",
    "    if op == \"+\":\n",
    "        return str(int(x) + int(y))\n",
    "    elif op == \"*\":\n",
    "        return str(int(x) * int(y))\n",
    "        "
   ]
  },
  {
   "cell_type": "code",
   "execution_count": 5,
   "metadata": {},
   "outputs": [
    {
     "data": {
      "text/plain": [
       "'71'"
      ]
     },
     "execution_count": 5,
     "metadata": {},
     "output_type": "execute_result"
    }
   ],
   "source": [
    "import re\n",
    "from collections import deque\n",
    "\n",
    "def calc_sequential(text):\n",
    "    nums = deque(re.findall(\"\\d+\", text))\n",
    "    operators = deque(re.findall(\"[+|*]\",text))\n",
    "    x = nums[0]\n",
    "    nums.popleft()\n",
    "    calc = x\n",
    "    while(len(nums) > 0):\n",
    "        y = nums[0]\n",
    "        op = operators[0]\n",
    "        eval_string = f\"{calc}{op}{y}\"\n",
    "        calc = str(eval(eval_string))\n",
    "        nums.popleft()\n",
    "        operators.popleft()\n",
    "    return calc\n",
    "                     \n",
    "calc_sequential(\"1 + 2 * 3 + 4 * 5 + 6\".replace(' ', ''))                "
   ]
  },
  {
   "cell_type": "code",
   "execution_count": 20,
   "metadata": {},
   "outputs": [
    {
     "name": "stdout",
     "output_type": "stream",
     "text": [
      "CPU times: user 50.5 ms, sys: 1.41 ms, total: 51.9 ms\n",
      "Wall time: 50.9 ms\n"
     ]
    },
    {
     "data": {
      "text/plain": [
       "24650385570008"
      ]
     },
     "execution_count": 20,
     "metadata": {},
     "output_type": "execute_result"
    }
   ],
   "source": [
    "%%time\n",
    "import re\n",
    "\n",
    "def remove_summation(text):\n",
    "    if \"+\" not in text:\n",
    "        return text\n",
    "    \n",
    "    last_y = re.findall(\"\\d+\", text)[-1]\n",
    "    new_eq = text\n",
    "    \n",
    "    i = 0\n",
    "    while(i < len(text)-len(last_y)):\n",
    "        x = re.findall(\"\\d+\", text[i:])[0]\n",
    "        y = re.findall(\"\\d+\", text[i+len(x)+1:])[0]\n",
    "        op = re.findall(\"[+|*]\",text[i+len(x):])[0]\n",
    "        \n",
    "        if op ==\"+\":\n",
    "            new_eq = new_eq.replace(f\"{x}+{y}\", calc_num(x, y, op), 1)\n",
    "            return remove_summation(new_eq)\n",
    "        else:\n",
    "            i += 1+len(x)\n",
    "\n",
    "\n",
    "def calculate(text, reverse_priority):\n",
    "    new_eq = text\n",
    "    x = re.findall(\"\\d+\", text)[0]\n",
    "    calc = x\n",
    "    last_y = re.findall(\"\\d+\", text)[-1]\n",
    "    \n",
    "    if \"(\" not in text:\n",
    "        if reverse_priority:\n",
    "            text = remove_summation(text)\n",
    "            calc = eval(text)\n",
    "        else:\n",
    "            calc = calc_sequential(text)\n",
    "        return calc\n",
    "    else: \n",
    "        while (True):\n",
    "            if \"(\" not in new_eq:\n",
    "                break\n",
    "\n",
    "            else:\n",
    "                match_pars = list(find_matching_parentheses(new_eq).items())[0]\n",
    "                start_par_idx = match_pars[0]\n",
    "                close_par_idx = match_pars[1]\n",
    "                substr = new_eq[start_par_idx:close_par_idx+1]\n",
    "                new_eq = new_eq.replace(substr, str(calculate(substr[1:-1], reverse_priority)))\n",
    "                \n",
    "        return calculate(new_eq, reverse_priority)\n",
    "    return calc\n",
    "\n",
    "\n",
    "calcs = list(map(int, [calculate(x, False) for x in lines]))\n",
    "sum(calcs)"
   ]
  },
  {
   "cell_type": "code",
   "execution_count": 19,
   "metadata": {},
   "outputs": [
    {
     "name": "stdout",
     "output_type": "stream",
     "text": [
      "CPU times: user 53.2 ms, sys: 1.28 ms, total: 54.4 ms\n",
      "Wall time: 53.5 ms\n"
     ]
    },
    {
     "data": {
      "text/plain": [
       "158183007916215"
      ]
     },
     "execution_count": 19,
     "metadata": {},
     "output_type": "execute_result"
    }
   ],
   "source": [
    "%%time\n",
    "#Part 2\n",
    "\n",
    "calcs = list(map(int, [calculate(x, True) for x in lines]))\n",
    "sum(calcs)"
   ]
  }
 ],
 "metadata": {
  "kernelspec": {
   "display_name": "Python 3.9",
   "language": "python",
   "name": "python39"
  },
  "language_info": {
   "codemirror_mode": {
    "name": "ipython",
    "version": 3
   },
   "file_extension": ".py",
   "mimetype": "text/x-python",
   "name": "python",
   "nbconvert_exporter": "python",
   "pygments_lexer": "ipython3",
   "version": "3.9.1"
  }
 },
 "nbformat": 4,
 "nbformat_minor": 4
}
