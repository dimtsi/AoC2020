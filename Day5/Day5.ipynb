{
 "cells": [
  {
   "cell_type": "code",
   "execution_count": 2,
   "metadata": {},
   "outputs": [
    {
     "data": {
      "text/plain": [
       "['BFBFFFBLRL',\n",
       " 'FFBFFBFRLR',\n",
       " 'BBBFFBBRLL',\n",
       " 'FBFFBBFLRL',\n",
       " 'BFBBFFFLRR',\n",
       " 'BFBBFBFRRL',\n",
       " 'BFFBBBFRRL']"
      ]
     },
     "execution_count": 2,
     "metadata": {},
     "output_type": "execute_result"
    }
   ],
   "source": [
    "with open('input.txt', \"r\") as f:\n",
    "    seats = [line.rstrip() for line in f]\n",
    "seats[:7]"
   ]
  },
  {
   "cell_type": "code",
   "execution_count": 3,
   "metadata": {},
   "outputs": [],
   "source": [
    "row_codes = list(map(lambda x: x[:7], seats))\n",
    "col_codes = list(map(lambda x: x[7:], seats))\n"
   ]
  },
  {
   "cell_type": "code",
   "execution_count": 4,
   "metadata": {},
   "outputs": [
    {
     "data": {
      "text/plain": [
       "44"
      ]
     },
     "execution_count": 4,
     "metadata": {},
     "output_type": "execute_result"
    }
   ],
   "source": [
    "def get_row(seq, low=0, high=127):\n",
    "    pivot = int((low+high)/2)\n",
    "\n",
    "    if len(seq)==1:\n",
    "        if seq[0]==\"B\":\n",
    "            return int(high)\n",
    "        else:\n",
    "            return int(low)\n",
    "    else: \n",
    "        if seq[0]==\"F\":\n",
    "            return get_row(seq[1:], low, pivot)\n",
    "        else:\n",
    "            return get_row(seq[1:], pivot+1, high)\n",
    "        \n",
    "get_row('FBFBBFF', 0, 127)"
   ]
  },
  {
   "cell_type": "code",
   "execution_count": 5,
   "metadata": {},
   "outputs": [
    {
     "data": {
      "text/plain": [
       "5"
      ]
     },
     "execution_count": 5,
     "metadata": {},
     "output_type": "execute_result"
    }
   ],
   "source": [
    "def get_col(seq, low=0, high=7):\n",
    "    pivot = int((low+high)/2)\n",
    "    if len(seq)==1:\n",
    "        if seq[0]==\"R\":\n",
    "            return int(high)\n",
    "        else:\n",
    "            return int(low)\n",
    "    else: \n",
    "        if seq[0]==\"L\":\n",
    "            return get_col(seq[1:], low, pivot)\n",
    "        else:\n",
    "            return get_col(seq[1:], pivot+1, high)\n",
    "        \n",
    "get_col('RLR', 0, 7)"
   ]
  },
  {
   "cell_type": "code",
   "execution_count": 6,
   "metadata": {},
   "outputs": [
    {
     "data": {
      "text/plain": [
       "[81, 18, 115, 38, 88, 90, 78, 89, 11, 63]"
      ]
     },
     "execution_count": 6,
     "metadata": {},
     "output_type": "execute_result"
    }
   ],
   "source": [
    "row_numbs = list(map(get_row, row_codes))\n",
    "row_numbs[:10]"
   ]
  },
  {
   "cell_type": "code",
   "execution_count": 8,
   "metadata": {},
   "outputs": [
    {
     "data": {
      "text/plain": [
       "[2, 5, 4, 2, 3]"
      ]
     },
     "execution_count": 8,
     "metadata": {},
     "output_type": "execute_result"
    }
   ],
   "source": [
    "col_numbs = list(map(get_col, col_codes))\n",
    "col_numbs[:5]"
   ]
  },
  {
   "cell_type": "code",
   "execution_count": 9,
   "metadata": {},
   "outputs": [
    {
     "data": {
      "text/plain": [
       "928"
      ]
     },
     "execution_count": 9,
     "metadata": {},
     "output_type": "execute_result"
    }
   ],
   "source": [
    "import numpy as np\n",
    "mult_list = np.array(row_numbs)*8+np.array(col_numbs)\n",
    "mult_list.max()"
   ]
  },
  {
   "cell_type": "code",
   "execution_count": 10,
   "metadata": {},
   "outputs": [
    {
     "name": "stdout",
     "output_type": "stream",
     "text": [
      "610\n"
     ]
    }
   ],
   "source": [
    "sort_list = sorted(mult_list)\n",
    "\n",
    "min_val = min(sort_list)\n",
    "max_val = max(sort_list)\n",
    "for i in range(min_val, max_val):\n",
    "    if i not in sort_list:\n",
    "        print(i)"
   ]
  }
 ],
 "metadata": {
  "kernelspec": {
   "display_name": "gaia-base",
   "language": "python",
   "name": "gaia-base"
  },
  "language_info": {
   "codemirror_mode": {
    "name": "ipython",
    "version": 3
   },
   "file_extension": ".py",
   "mimetype": "text/x-python",
   "name": "python",
   "nbconvert_exporter": "python",
   "pygments_lexer": "ipython3",
   "version": "3.7.9"
  }
 },
 "nbformat": 4,
 "nbformat_minor": 4
}
