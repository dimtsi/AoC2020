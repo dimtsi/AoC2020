{
 "cells": [
  {
   "cell_type": "code",
   "execution_count": 1,
   "metadata": {},
   "outputs": [
    {
     "data": {
      "text/plain": [
       "[14, 39, 44, 32, 47]"
      ]
     },
     "execution_count": 1,
     "metadata": {},
     "output_type": "execute_result"
    }
   ],
   "source": [
    "with open('input.txt', \"r\") as f:\n",
    "    lines = f.read().rstrip().split(\"\\n\")\n",
    "    \n",
    "lines = list(map(int, lines))\n",
    "lines[:5]"
   ]
  },
  {
   "cell_type": "code",
   "execution_count": 2,
   "metadata": {},
   "outputs": [],
   "source": [
    "def check_if_valid(arr, val):\n",
    "    from itertools import combinations\n",
    "    comb = list(combinations(arr, 2))\n",
    "    sums = set(map(sum, comb))\n",
    "    if val not in sums:\n",
    "        return False\n",
    "    return True\n"
   ]
  },
  {
   "cell_type": "code",
   "execution_count": 3,
   "metadata": {},
   "outputs": [
    {
     "name": "stdout",
     "output_type": "stream",
     "text": [
      "22477624\n"
     ]
    }
   ],
   "source": [
    "preamble = 25\n",
    "for i in range(preamble, len(lines)):\n",
    "    value = lines[i]\n",
    "    prev_25 = lines[i-preamble:i]\n",
    "    if not check_if_valid(prev_25, value):\n",
    "        inv_val = value\n",
    "        print(inv_val)\n",
    "        break\n",
    "    "
   ]
  },
  {
   "cell_type": "code",
   "execution_count": 5,
   "metadata": {},
   "outputs": [
    {
     "name": "stdout",
     "output_type": "stream",
     "text": [
      "416 432\n",
      "895445 2084599\n",
      "2980044\n"
     ]
    }
   ],
   "source": [
    "i=0\n",
    "j=1\n",
    "flag = False\n",
    "\n",
    "while (i < len(lines)):\n",
    "    if flag:\n",
    "        break\n",
    "    while (j < len(lines)):\n",
    "        arr = lines[i:j+1]\n",
    "        sum_arr = sum(arr)\n",
    "        if sum_arr > inv_val:\n",
    "            break\n",
    "        elif sum_arr == inv_val:\n",
    "            print(i, j)\n",
    "            min_val, max_val = min(arr), max(arr)\n",
    "            print(min_val, max_val)\n",
    "            print(sum([min_val, max_val]))\n",
    "            flag = True\n",
    "            break\n",
    "        j += 1\n",
    "    i += 1\n",
    "    j = i+1\n",
    "        \n",
    "        \n",
    "    "
   ]
  }
 ],
 "metadata": {
  "kernelspec": {
   "display_name": "gaia-base",
   "language": "python",
   "name": "gaia-base"
  },
  "language_info": {
   "codemirror_mode": {
    "name": "ipython",
    "version": 3
   },
   "file_extension": ".py",
   "mimetype": "text/x-python",
   "name": "python",
   "nbconvert_exporter": "python",
   "pygments_lexer": "ipython3",
   "version": "3.7.9"
  }
 },
 "nbformat": 4,
 "nbformat_minor": 4
}
