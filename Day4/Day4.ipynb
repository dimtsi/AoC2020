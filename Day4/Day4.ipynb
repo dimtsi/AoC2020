{
 "cells": [
  {
   "cell_type": "code",
   "execution_count": 1,
   "metadata": {},
   "outputs": [],
   "source": [
    "FIELDS = {\n",
    "    'byr',\n",
    "    'iyr',\n",
    "    'eyr',\n",
    "    'hgt',\n",
    "    'hcl',\n",
    "    'ecl',\n",
    "    'pid',\n",
    "    'cid'\n",
    "}"
   ]
  },
  {
   "cell_type": "code",
   "execution_count": 2,
   "metadata": {},
   "outputs": [
    {
     "data": {
      "text/plain": [
       "{'byr', 'ecl', 'eyr', 'hcl', 'hgt', 'iyr', 'pid'}"
      ]
     },
     "execution_count": 2,
     "metadata": {},
     "output_type": "execute_result"
    }
   ],
   "source": [
    "MUST_FIELDS = FIELDS - {'cid'}\n",
    "MUST_FIELDS"
   ]
  },
  {
   "cell_type": "code",
   "execution_count": 4,
   "metadata": {},
   "outputs": [
    {
     "data": {
      "text/plain": [
       "[{'byr': '1937',\n",
       "  'eyr': '2030',\n",
       "  'pid': '154364481',\n",
       "  'hgt': '158cm',\n",
       "  'iyr': '2015',\n",
       "  'ecl': 'brn',\n",
       "  'hcl': '#c0946f',\n",
       "  'cid': '155'},\n",
       " {'cid': '279',\n",
       "  'eyr': '2029',\n",
       "  'pid': '675014709',\n",
       "  'ecl': 'amb',\n",
       "  'byr': '1985',\n",
       "  'hgt': '179in',\n",
       "  'hcl': 'z',\n",
       "  'iyr': '2025'},\n",
       " {'iyr': '2011',\n",
       "  'hgt': '181cm',\n",
       "  'hcl': '#341e13',\n",
       "  'pid': '282499883',\n",
       "  'byr': '1953',\n",
       "  'eyr': '2023',\n",
       "  'ecl': 'brn'},\n",
       " {'eyr': '2040',\n",
       "  'iyr': '1984',\n",
       "  'pid': '2371396209',\n",
       "  'byr': '1951',\n",
       "  'cid': '283',\n",
       "  'hgt': '164cm',\n",
       "  'hcl': '#623a2f'},\n",
       " {'iyr': '2014',\n",
       "  'byr': '1966',\n",
       "  'hgt': '153cm',\n",
       "  'pid': '900693718',\n",
       "  'eyr': '2020',\n",
       "  'ecl': 'gry',\n",
       "  'hcl': '#866857'}]"
      ]
     },
     "execution_count": 4,
     "metadata": {},
     "output_type": "execute_result"
    }
   ],
   "source": [
    "entries = []\n",
    "\n",
    "with open('input.txt', \"r\") as f:\n",
    "    entry = {}\n",
    "    for line in f:\n",
    "        if line.isspace():\n",
    "            entries.append(entry.copy())\n",
    "            entry = {}\n",
    "        else:\n",
    "            line_values = line.rstrip().split(sep=\" \")\n",
    "            for item in line_values:\n",
    "                k, v = item.split(sep=\":\")\n",
    "                entry[k] = v\n",
    "                \n",
    "                \n",
    "        \n",
    "entries[:5]"
   ]
  },
  {
   "cell_type": "code",
   "execution_count": 5,
   "metadata": {},
   "outputs": [],
   "source": [
    "def check_date(val, min, max):\n",
    "    if len(val) != 4:\n",
    "        return False\n",
    "    val = int(val)\n",
    "    if val < min or val > max:\n",
    "        return False\n",
    "    return True\n",
    "\n",
    "\n",
    "def check_color(val):\n",
    "    if val not in {'amb', 'blu', 'brn', 'gry', 'grn', 'hzl', 'oth'}:\n",
    "        return False\n",
    "    else:\n",
    "        return True\n",
    "    \n",
    "def check_hgt(val):\n",
    "    metr = val[-2:]\n",
    "    if metr not in {'cm', 'in'}:\n",
    "        return False\n",
    "    try:\n",
    "        hgt = int(val[:-2])\n",
    "    except:\n",
    "        return False\n",
    "    \n",
    "    if metr == 'cm':\n",
    "        if hgt < 150 or hgt > 193:\n",
    "            return False\n",
    "    if metr == 'in':\n",
    "        if hgt < 59 or hgt > 76:\n",
    "            return False\n",
    "    return True\n",
    "\n",
    "def check_hcl(val):\n",
    "    import re\n",
    "    pattern = re.compile(\"^#[0-9a-z]{6}\")\n",
    "    \n",
    "    try:\n",
    "        match = re.findall(pattern, val)[0]\n",
    "        if match == val:\n",
    "            return True\n",
    "        else:\n",
    "            return False\n",
    "    except:\n",
    "        return False\n",
    "    \n",
    "def check_pid(val):\n",
    "    import re\n",
    "    pattern = re.compile(\"[0-9]{9}\")\n",
    "    try:\n",
    "        match = re.findall(pattern, val)[0]\n",
    "        if match == val:\n",
    "            return True\n",
    "        else:\n",
    "            return False\n",
    "    except:\n",
    "        return False"
   ]
  },
  {
   "cell_type": "code",
   "execution_count": 6,
   "metadata": {},
   "outputs": [],
   "source": [
    "def check_if_valid(value_dict):\n",
    "    key_set =  set(value_dict.keys())\n",
    "#     print(value_dict.keys())\n",
    "    if not key_set.issuperset(MUST_FIELDS):\n",
    "        return False\n",
    "    \n",
    "    if not check_date(value_dict['byr'], 1920, 2002):\n",
    "        return False\n",
    "    if not check_date(value_dict['iyr'], 2010, 2020):\n",
    "        return False\n",
    "    if not check_date(value_dict['eyr'], 2020, 2030):\n",
    "        return False\n",
    "    if not check_color(value_dict['ecl']):\n",
    "        return False\n",
    "    if not check_hgt(value_dict['hgt']):\n",
    "        return False\n",
    "    if not check_hcl(value_dict['hcl']):\n",
    "        return False\n",
    "    if not check_pid(value_dict['pid']):\n",
    "        return False\n",
    "    \n",
    "    return True\n",
    "    \n"
   ]
  },
  {
   "cell_type": "code",
   "execution_count": 9,
   "metadata": {},
   "outputs": [
    {
     "data": {
      "text/plain": [
       "116"
      ]
     },
     "execution_count": 9,
     "metadata": {},
     "output_type": "execute_result"
    }
   ],
   "source": [
    "count_valid = 0\n",
    "for value in entries:\n",
    "    if check_if_valid(value.copy()):\n",
    "        count_valid += 1\n",
    "count_valid\n",
    "        "
   ]
  }
 ],
 "metadata": {
  "kernelspec": {
   "display_name": "Python 3",
   "language": "python",
   "name": "python3"
  },
  "language_info": {
   "codemirror_mode": {
    "name": "ipython",
    "version": 3
   },
   "file_extension": ".py",
   "mimetype": "text/x-python",
   "name": "python",
   "nbconvert_exporter": "python",
   "pygments_lexer": "ipython3",
   "version": "3.7.9"
  }
 },
 "nbformat": 4,
 "nbformat_minor": 4
}
