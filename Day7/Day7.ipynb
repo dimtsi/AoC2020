{
 "cells": [
  {
   "cell_type": "code",
   "execution_count": 3,
   "metadata": {
    "scrolled": false
   },
   "outputs": [
    {
     "data": {
      "text/plain": [
       "['dark olive bags contain 2 muted brown bags, 1 mirrored tomato bag, 4 bright black bags.',\n",
       " 'faded coral bags contain 3 drab cyan bags, 1 light aqua bag.',\n",
       " 'plaid plum bags contain 2 mirrored cyan bags.',\n",
       " 'clear maroon bags contain 1 dotted turquoise bag, 3 dim lavender bags.',\n",
       " 'plaid coral bags contain 3 posh fuchsia bags, 3 dotted beige bags, 2 wavy turquoise bags.']"
      ]
     },
     "execution_count": 3,
     "metadata": {},
     "output_type": "execute_result"
    }
   ],
   "source": [
    "groups = []\n",
    "\n",
    "with open('input.txt', \"r\") as f:\n",
    "    lines = f.read().rstrip().split(\"\\n\")\n",
    "    \n",
    "lines[:5]"
   ]
  },
  {
   "cell_type": "code",
   "execution_count": 4,
   "metadata": {},
   "outputs": [],
   "source": [
    "def parse_line(line):\n",
    "    color_input = \" \".join(line.split(sep=\" \")[:2])\n",
    "    index[color_input] = {}\n",
    "    import re\n",
    "    p = re.compile(r'[0-9] ((\\w+ ){2})')\n",
    "    try:\n",
    "        for match in re.finditer(p, line):\n",
    "            val, *color = match.group().split()\n",
    "            color = \" \".join(color)\n",
    "            index[color_input][color] = val\n",
    "    except:\n",
    "        pass"
   ]
  },
  {
   "cell_type": "code",
   "execution_count": 18,
   "metadata": {},
   "outputs": [
    {
     "data": {
      "text/plain": [
       "{'dark olive': {'muted brown': '2',\n",
       "  'mirrored tomato': '1',\n",
       "  'bright black': '4'},\n",
       " 'faded coral': {'drab cyan': '3', 'light aqua': '1'}}"
      ]
     },
     "execution_count": 18,
     "metadata": {},
     "output_type": "execute_result"
    }
   ],
   "source": [
    "index = {}\n",
    "\n",
    "[list(map(parse_line, lines))]\n",
    "\n",
    "{k: index[k] for k in list(index)[:2]}\n"
   ]
  },
  {
   "cell_type": "code",
   "execution_count": 19,
   "metadata": {},
   "outputs": [
    {
     "data": {
      "text/plain": [
       "{'muted brown': ['dark olive',\n",
       "  'muted gray',\n",
       "  'bright beige',\n",
       "  'light turquoise'],\n",
       " 'mirrored tomato': ['dark olive', 'mirrored gray', 'plaid orange'],\n",
       " 'bright black': ['dark olive', 'dim violet', 'light yellow'],\n",
       " 'drab cyan': ['faded coral',\n",
       "  'pale red',\n",
       "  'plaid white',\n",
       "  'posh silver',\n",
       "  'mirrored turquoise'],\n",
       " 'light aqua': ['faded coral',\n",
       "  'mirrored brown',\n",
       "  'dark teal',\n",
       "  'dim olive',\n",
       "  'mirrored tomato']}"
      ]
     },
     "execution_count": 19,
     "metadata": {},
     "output_type": "execute_result"
    }
   ],
   "source": [
    "inv_index = {}\n",
    "for key in index.keys():\n",
    "    for val in index[key].keys():\n",
    "        if val in inv_index.keys():\n",
    "            inv_index[val].append(key)\n",
    "        else:\n",
    "            inv_index[val] = [key]\n",
    "\n",
    "            \n",
    "{k: inv_index[k] for k in list(inv_index)[:5]}"
   ]
  },
  {
   "cell_type": "code",
   "execution_count": 7,
   "metadata": {},
   "outputs": [
    {
     "data": {
      "text/plain": [
       "246"
      ]
     },
     "execution_count": 7,
     "metadata": {},
     "output_type": "execute_result"
    }
   ],
   "source": [
    "def get_parents(base_col, color_buf):\n",
    "    if base_col not in inv_index.keys():\n",
    "        return color_buf\n",
    "    for color in inv_index[base_col]:\n",
    "        if color in color_buf:\n",
    "            continue\n",
    "        else:\n",
    "            color_buf.append(color)\n",
    "            color_buf = list(set(color_buf) | set(get_parents(color, list(color_buf))))\n",
    "    return color_buf\n",
    "len(get_parents(\"shiny gold\", []))     "
   ]
  },
  {
   "cell_type": "code",
   "execution_count": 10,
   "metadata": {},
   "outputs": [
    {
     "data": {
      "text/plain": [
       "2976"
      ]
     },
     "execution_count": 10,
     "metadata": {},
     "output_type": "execute_result"
    }
   ],
   "source": [
    "#part2\n",
    "\n",
    "def get_total_num_of_bags(base_color, count):\n",
    "    for color in index[base_color]:\n",
    "        color_cnt = int(index[base_color][color])\n",
    "        count += color_cnt*(1 + get_total_num_of_bags(color, 0))\n",
    "    return count\n",
    "\n",
    "get_total_num_of_bags(\"shiny gold\", 0)"
   ]
  }
 ],
 "metadata": {
  "kernelspec": {
   "display_name": "gaia-base",
   "language": "python",
   "name": "gaia-base"
  },
  "language_info": {
   "codemirror_mode": {
    "name": "ipython",
    "version": 3
   },
   "file_extension": ".py",
   "mimetype": "text/x-python",
   "name": "python",
   "nbconvert_exporter": "python",
   "pygments_lexer": "ipython3",
   "version": "3.7.9"
  }
 },
 "nbformat": 4,
 "nbformat_minor": 4
}
