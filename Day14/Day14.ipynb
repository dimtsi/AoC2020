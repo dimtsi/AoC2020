{
 "cells": [
  {
   "cell_type": "code",
   "execution_count": 1,
   "metadata": {},
   "outputs": [],
   "source": [
    "with open('input.txt', \"r\") as f:\n",
    "    lines = f.read().rstrip().split('\\n')\n",
    "    \n",
    "lines[:10]"
   ]
  },
  {
   "cell_type": "code",
   "execution_count": 2,
   "metadata": {},
   "outputs": [],
   "source": [
    "from collections import OrderedDict\n",
    "\n",
    "def parse_mask(line):\n",
    "    return line.split('= ')[1]\n",
    "\n",
    "\n",
    "def parse_mem(line):\n",
    "    mem_str, val = line.split(' = ')\n",
    "    val = int(val)\n",
    "\n",
    "    import re\n",
    "    mem = int(re.findall(r'\\d+', mem_str)[0])\n",
    "    return mem, val\n",
    "\n",
    "G = OrderedDict()\n",
    "\n",
    "\n",
    "for line in lines:\n",
    "    if line.startswith('mask'):\n",
    "        mask = parse_mask(line)\n",
    "        G[mask] = []\n",
    "    else:\n",
    "        mem, val = parse_mem(line)\n",
    "        G[mask].append((mem, val))\n",
    "list(G.keys())[:5]"
   ]
  },
  {
   "cell_type": "code",
   "execution_count": 3,
   "metadata": {},
   "outputs": [],
   "source": [
    "def get_changed_bits(mask):\n",
    "    changed_bits = {}\n",
    "    for i in range(len(mask)):\n",
    "        if mask[i] != 'X':\n",
    "            changed_bits[i] = mask[i]\n",
    "    return changed_bits\n",
    "\n",
    "get_changed_bits(list(G.keys())[0])        "
   ]
  },
  {
   "cell_type": "code",
   "execution_count": 4,
   "metadata": {},
   "outputs": [
    {
     "name": "stdout",
     "output_type": "stream",
     "text": [
      "000000000000000000000000000000001000\n",
      "8\n"
     ]
    }
   ],
   "source": [
    "def dec_to_bin(x):\n",
    "    return str(bin(x)[2:].zfill(36))\n",
    "\n",
    "def bin_to_dec(bin_str):\n",
    "    return int(bin_str, 2)\n",
    "\n",
    "print(dec_to_bin(8))\n",
    "print(bin_to_dec('000000000000000000000000000000001000'))\n"
   ]
  },
  {
   "cell_type": "code",
   "execution_count": 5,
   "metadata": {},
   "outputs": [
    {
     "data": {
      "text/plain": [
       "'000100011010101100101001010011110000'"
      ]
     },
     "execution_count": 5,
     "metadata": {},
     "output_type": "execute_result"
    }
   ],
   "source": [
    "def apply_mask(bin_str, changed_mask_dict):\n",
    "#     print(bin_str)\n",
    "    bin_str = list(bin_str)\n",
    "    for k, v in changed_mask_dict.items():\n",
    "#         print(k, v)\n",
    "        bin_str[k] = v\n",
    "    return \"\".join(bin_str)\n",
    "\n",
    "apply_mask(dec_to_bin(101), get_changed_bits(list(G.keys())[0]))"
   ]
  },
  {
   "cell_type": "code",
   "execution_count": 6,
   "metadata": {},
   "outputs": [],
   "source": [
    "def update_memory(mask_dict, mem_addr, suggested_val, mask_func):\n",
    "    final_mem_value_bin = mask_func(dec_to_bin(suggested_val), mask_dict)\n",
    "    MEM[mem_addr] = bin_to_dec(final_mem_value_bin)\n",
    "    "
   ]
  },
  {
   "cell_type": "code",
   "execution_count": 10,
   "metadata": {},
   "outputs": [
    {
     "data": {
      "text/plain": [
       "9879607673316"
      ]
     },
     "execution_count": 10,
     "metadata": {},
     "output_type": "execute_result"
    }
   ],
   "source": [
    "MEM = {}\n",
    "\n",
    "\n",
    "for mask in G.keys():\n",
    "    mask_dict = get_changed_bits(mask)\n",
    "    for addr, val in G[mask]:\n",
    "        update_memory(mask_dict, addr, val, apply_mask)\n",
    "sum(MEM.values())"
   ]
  },
  {
   "cell_type": "markdown",
   "metadata": {},
   "source": [
    "## Part 2"
   ]
  },
  {
   "cell_type": "code",
   "execution_count": 17,
   "metadata": {},
   "outputs": [],
   "source": [
    "def get_combinations(poss_vals_set, k, buffer):\n",
    "    get_combinations_recursive(poss_vals_set, \"\", k, buffer)\n",
    "    return buffer\n",
    "\n",
    "\n",
    "def get_combinations_recursive(poss_vals_set, s, k, buffer):\n",
    "    if len(s) == k:\n",
    "        buffer.add(s)\n",
    "        return\n",
    "\n",
    "    for val in poss_vals_set:\n",
    "        get_combinations_recursive(poss_vals_set, s + val, k, buffer)\n",
    "    return\n",
    "\n"
   ]
  },
  {
   "cell_type": "code",
   "execution_count": 18,
   "metadata": {},
   "outputs": [
    {
     "data": {
      "text/plain": [
       "[16, 17, 18, 19, 24, 25, 26, 27]"
      ]
     },
     "execution_count": 18,
     "metadata": {},
     "output_type": "execute_result"
    }
   ],
   "source": [
    "def get_modified_addresses(bin_str):\n",
    "    result = []\n",
    "    combinations = set()\n",
    "    floating_idxs = []\n",
    "    for i in range(len(bin_str)):\n",
    "        if bin_str[i] == 'X':\n",
    "            floating_idxs.append(i)\n",
    "            \n",
    "    combs = get_combinations(['0', '1'], len(floating_idxs), set())\n",
    "    \n",
    "    for comb in combs:\n",
    "        new_string = bin_str.copy()\n",
    "        for i in range(len(comb)):\n",
    "            new_string[floating_idxs[i]] = comb[i]\n",
    "        result.append(\"\".join(new_string))\n",
    "    return list(map(bin_to_dec, result))\n",
    "        \n",
    "\n",
    "def apply_mask_v2(bin_str, mask):\n",
    "    result = list(bin_str)\n",
    "    floating_idxs = []\n",
    "    for i in range(len(mask)):\n",
    "        if mask[i] == '0':\n",
    "            continue\n",
    "        elif mask[i] == '1':\n",
    "            result[i] = '1'\n",
    "            \n",
    "        elif mask[i] == 'X':\n",
    "            result[i] = 'X'\n",
    "    addresses = get_modified_addresses(result)       \n",
    "    return addresses\n",
    "\n",
    "val = '000000000000000000000000000000011010'    \n",
    "mask = '00000000000000000000000000000000X0XX'\n",
    "k = apply_mask_v2(val, mask)\n",
    "sorted(k)"
   ]
  },
  {
   "cell_type": "code",
   "execution_count": 19,
   "metadata": {},
   "outputs": [],
   "source": [
    "def update_mem_v2(mask, base_addr, val):\n",
    "    new_addresses = apply_mask_v2(base_addr, mask)\n",
    "    for add in new_addresses:\n",
    "        MEM[add] = bin_to_dec(val)"
   ]
  },
  {
   "cell_type": "code",
   "execution_count": 20,
   "metadata": {},
   "outputs": [
    {
     "data": {
      "text/plain": [
       "3435342392262"
      ]
     },
     "execution_count": 20,
     "metadata": {},
     "output_type": "execute_result"
    }
   ],
   "source": [
    "MEM = {}\n",
    "\n",
    "for mask in G.keys():\n",
    "    for addr, val in G[mask]:\n",
    "        update_mem_v2(mask, dec_to_bin(addr), dec_to_bin(val))\n",
    "sum(MEM.values())"
   ]
  }
 ],
 "metadata": {
  "kernelspec": {
   "display_name": "Python 3.9",
   "language": "python",
   "name": "python39"
  },
  "language_info": {
   "codemirror_mode": {
    "name": "ipython",
    "version": 3
   },
   "file_extension": ".py",
   "mimetype": "text/x-python",
   "name": "python",
   "nbconvert_exporter": "python",
   "pygments_lexer": "ipython3",
   "version": "3.9.1"
  }
 },
 "nbformat": 4,
 "nbformat_minor": 4
}
