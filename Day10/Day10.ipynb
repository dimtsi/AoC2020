{
 "cells": [
  {
   "cell_type": "code",
   "execution_count": 1,
   "metadata": {},
   "outputs": [],
   "source": [
    "with open('sample2.txt', \"r\") as f:\n",
    "    lines = f.read().rstrip().split(\"\\n\")\n",
    "    \n",
    "lines = list(map(int, lines))\n",
    "lines.append(0)\n",
    "lines = sorted(lines)\n",
    "lines[:10]"
   ]
  },
  {
   "cell_type": "code",
   "execution_count": 2,
   "metadata": {},
   "outputs": [],
   "source": [
    "diff_1 = 0\n",
    "diff_3 = 0\n",
    "curr_rating = 0\n",
    "\n",
    "for val in lines:\n",
    "    if val - curr_rating == 1:\n",
    "        diff_1 += 1\n",
    "    elif val - curr_rating == 3:\n",
    "        diff_3 += 1\n",
    "    curr_rating = val\n",
    "\n",
    "# Device diff\n",
    "diff_3 += 1\n",
    "\n",
    "print(diff_1*diff_3)"
   ]
  },
  {
   "cell_type": "code",
   "execution_count": 3,
   "metadata": {
    "scrolled": false
   },
   "outputs": [],
   "source": [
    "# Create Graph\n",
    "G = {}\n",
    "\n",
    "for i, val in enumerate(lines):\n",
    "    if val in G.keys():\n",
    "        continue\n",
    "    for j in range(i+1, len(lines)):\n",
    "        diff = lines[j] - val\n",
    "        if diff <= 3:\n",
    "            if not val in G.keys():\n",
    "                G[val] = [lines[j]]\n",
    "            else:\n",
    "                G[val].append(lines[j])\n",
    "        else:\n",
    "            break\n",
    "G"
   ]
  },
  {
   "cell_type": "code",
   "execution_count": 5,
   "metadata": {},
   "outputs": [
    {
     "name": "stdout",
     "output_type": "stream",
     "text": [
      "19208\n"
     ]
    }
   ],
   "source": [
    "from collections import defaultdict\n",
    "\n",
    "visited = defaultdict(lambda: 0)\n",
    "\n",
    "def get_num_paths_to_dest(node, dest):\n",
    "    if node == dest:\n",
    "        # Only one path to dest\n",
    "        visited[node] = 1\n",
    "    else:\n",
    "        for val in G[node]:\n",
    "            if val in visited.keys():\n",
    "                visited[node] += visited[val]\n",
    "\n",
    "\n",
    "\n",
    "# Parse graph in reverse and add number of routes per node to dict                    \n",
    "reversed_lines = list(reversed(lines))\n",
    "for line in reversed_lines:\n",
    "    get_num_paths_to_dest(line, max(lines))\n",
    "\n",
    "print(visited[0])\n"
   ]
  }
 ],
 "metadata": {
  "kernelspec": {
   "display_name": "gaia-base",
   "language": "python",
   "name": "gaia-base"
  },
  "language_info": {
   "codemirror_mode": {
    "name": "ipython",
    "version": 3
   },
   "file_extension": ".py",
   "mimetype": "text/x-python",
   "name": "python",
   "nbconvert_exporter": "python",
   "pygments_lexer": "ipython3",
   "version": "3.7.9"
  }
 },
 "nbformat": 4,
 "nbformat_minor": 4
}
