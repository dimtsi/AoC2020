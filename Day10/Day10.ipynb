{
 "cells": [
  {
   "cell_type": "code",
   "execution_count": 5,
   "metadata": {},
   "outputs": [
    {
     "data": {
      "text/plain": [
       "[0, 1, 2, 3, 4, 7, 8, 9, 10, 13]"
      ]
     },
     "execution_count": 5,
     "metadata": {},
     "output_type": "execute_result"
    }
   ],
   "source": [
    "with open('input.txt', \"r\") as f:\n",
    "    lines = f.read().rstrip().split(\"\\n\")\n",
    "    \n",
    "lines = list(map(int, lines))\n",
    "lines.append(0)\n",
    "lines = sorted(lines)\n",
    "lines[:10]"
   ]
  },
  {
   "cell_type": "code",
   "execution_count": 2,
   "metadata": {},
   "outputs": [
    {
     "name": "stdout",
     "output_type": "stream",
     "text": [
      "2812\n"
     ]
    }
   ],
   "source": [
    "diff_1 = 0\n",
    "diff_3 = 0\n",
    "curr_rating = 0\n",
    "\n",
    "for val in lines:\n",
    "    if val - curr_rating == 1:\n",
    "        diff_1 += 1\n",
    "    elif val - curr_rating == 3:\n",
    "        diff_3 += 1\n",
    "    curr_rating = val\n",
    "\n",
    "# Device diff\n",
    "diff_3 += 1\n",
    "\n",
    "print(diff_1*diff_3)"
   ]
  },
  {
   "cell_type": "code",
   "execution_count": 3,
   "metadata": {
    "scrolled": false
   },
   "outputs": [
    {
     "data": {
      "text/plain": [
       "{0: [1, 2, 3],\n",
       " 1: [2, 3, 4],\n",
       " 2: [3, 4],\n",
       " 3: [4],\n",
       " 4: [7],\n",
       " 7: [8, 9, 10],\n",
       " 8: [9, 10],\n",
       " 9: [10],\n",
       " 10: [13],\n",
       " 13: [16],\n",
       " 16: [17, 18, 19],\n",
       " 17: [18, 19],\n",
       " 18: [19],\n",
       " 19: [22],\n",
       " 22: [23, 24, 25],\n",
       " 23: [24, 25, 26],\n",
       " 24: [25, 26],\n",
       " 25: [26],\n",
       " 26: [29],\n",
       " 29: [30, 31, 32],\n",
       " 30: [31, 32, 33],\n",
       " 31: [32, 33],\n",
       " 32: [33],\n",
       " 33: [36],\n",
       " 36: [37, 38],\n",
       " 37: [38],\n",
       " 38: [41],\n",
       " 41: [42, 43, 44],\n",
       " 42: [43, 44],\n",
       " 43: [44],\n",
       " 44: [47],\n",
       " 47: [50],\n",
       " 50: [51, 52, 53],\n",
       " 51: [52, 53],\n",
       " 52: [53],\n",
       " 53: [56],\n",
       " 56: [57, 58],\n",
       " 57: [58],\n",
       " 58: [61],\n",
       " 61: [64],\n",
       " 64: [65, 66],\n",
       " 65: [66],\n",
       " 66: [69],\n",
       " 69: [70, 71, 72],\n",
       " 70: [71, 72],\n",
       " 71: [72],\n",
       " 72: [75],\n",
       " 75: [76, 77],\n",
       " 76: [77],\n",
       " 77: [80],\n",
       " 80: [81, 82, 83],\n",
       " 81: [82, 83, 84],\n",
       " 82: [83, 84],\n",
       " 83: [84],\n",
       " 84: [87],\n",
       " 87: [88, 89, 90],\n",
       " 88: [89, 90],\n",
       " 89: [90],\n",
       " 90: [93],\n",
       " 93: [96],\n",
       " 96: [97, 98, 99],\n",
       " 97: [98, 99, 100],\n",
       " 98: [99, 100],\n",
       " 99: [100],\n",
       " 100: [103],\n",
       " 103: [104, 105],\n",
       " 104: [105],\n",
       " 105: [108],\n",
       " 108: [111],\n",
       " 111: [114],\n",
       " 114: [115],\n",
       " 115: [118],\n",
       " 118: [121],\n",
       " 121: [122, 123, 124],\n",
       " 122: [123, 124],\n",
       " 123: [124],\n",
       " 124: [127],\n",
       " 127: [128, 129, 130],\n",
       " 128: [129, 130, 131],\n",
       " 129: [130, 131],\n",
       " 130: [131],\n",
       " 131: [134],\n",
       " 134: [137],\n",
       " 137: [138, 139, 140],\n",
       " 138: [139, 140],\n",
       " 139: [140],\n",
       " 140: [143],\n",
       " 143: [146],\n",
       " 146: [149],\n",
       " 149: [150, 151, 152],\n",
       " 150: [151, 152],\n",
       " 151: [152],\n",
       " 152: [155],\n",
       " 155: [156, 157],\n",
       " 156: [157],\n",
       " 157: [160],\n",
       " 160: [161],\n",
       " 161: [164],\n",
       " 164: [165, 166, 167],\n",
       " 165: [166, 167, 168],\n",
       " 166: [167, 168],\n",
       " 167: [168],\n",
       " 168: [171],\n",
       " 171: [172, 173, 174],\n",
       " 172: [173, 174],\n",
       " 173: [174],\n",
       " 174: [177],\n",
       " 177: [180],\n",
       " 180: [181, 182, 183],\n",
       " 181: [182, 183, 184],\n",
       " 182: [183, 184],\n",
       " 183: [184]}"
      ]
     },
     "execution_count": 3,
     "metadata": {},
     "output_type": "execute_result"
    }
   ],
   "source": [
    "# Create Graph\n",
    "G = {}\n",
    "\n",
    "for i, val in enumerate(lines):\n",
    "    if val in G.keys():\n",
    "        continue\n",
    "    for j in range(i+1, len(lines)):\n",
    "        diff = lines[j] - val\n",
    "        if diff <= 3:\n",
    "            if not val in G.keys():\n",
    "                G[val] = [lines[j]]\n",
    "            else:\n",
    "                G[val].append(lines[j])\n",
    "        else:\n",
    "            break\n",
    "G"
   ]
  },
  {
   "cell_type": "code",
   "execution_count": 4,
   "metadata": {},
   "outputs": [
    {
     "name": "stdout",
     "output_type": "stream",
     "text": [
      "386869246296064\n"
     ]
    }
   ],
   "source": [
    "from collections import defaultdict\n",
    "\n",
    "visited = defaultdict(lambda: 0)\n",
    "\n",
    "def get_num_paths_to_dest(curr, lines):\n",
    "    if curr == max(lines):\n",
    "        visited[curr] += 1\n",
    "    else:\n",
    "        for val in G[curr]:\n",
    "            if val in visited.keys():\n",
    "                visited[curr] += visited[val]\n",
    "            elif max(lines) - val <= 3:\n",
    "                visited[val] += 1\n",
    "\n",
    "\n",
    "# Parse graph in reverse and add number of routes per node to dict                    \n",
    "reversed_lines = list(reversed(lines))\n",
    "for line in reversed_lines:\n",
    "    get_num_paths_to_dest(line, lines)\n",
    "\n",
    "print(visited[0])\n"
   ]
  }
 ],
 "metadata": {
  "kernelspec": {
   "display_name": "gaia-base",
   "language": "python",
   "name": "gaia-base"
  },
  "language_info": {
   "codemirror_mode": {
    "name": "ipython",
    "version": 3
   },
   "file_extension": ".py",
   "mimetype": "text/x-python",
   "name": "python",
   "nbconvert_exporter": "python",
   "pygments_lexer": "ipython3",
   "version": "3.7.9"
  }
 },
 "nbformat": 4,
 "nbformat_minor": 4
}
