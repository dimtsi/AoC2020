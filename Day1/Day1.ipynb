{
 "cells": [
  {
   "cell_type": "code",
   "execution_count": 7,
   "metadata": {},
   "outputs": [],
   "source": [
    "with open('input.txt', \"r\") as f:\n",
    "    years = [int(line.rstrip()) for line in f]"
   ]
  },
  {
   "cell_type": "code",
   "execution_count": 9,
   "metadata": {},
   "outputs": [
    {
     "name": "stdout",
     "output_type": "stream",
     "text": [
      "456 1564\n",
      "713184\n",
      "1564 456\n",
      "713184\n"
     ]
    }
   ],
   "source": [
    "for i in years:\n",
    "    for j in years:\n",
    "        if i == j:\n",
    "            continue\n",
    "        else:\n",
    "            if i+j == 2020:\n",
    "                print(i, j)\n",
    "                print(i*j)\n",
    "    "
   ]
  },
  {
   "cell_type": "code",
   "execution_count": 15,
   "metadata": {},
   "outputs": [],
   "source": [
    "x = set([1, 5, 6, 7])"
   ]
  },
  {
   "cell_type": "code",
   "execution_count": 18,
   "metadata": {},
   "outputs": [
    {
     "name": "stdout",
     "output_type": "stream",
     "text": [
      "764 857 399\n",
      "261244452\n",
      "764 399 857\n",
      "261244452\n",
      "857 764 399\n",
      "261244452\n",
      "857 399 764\n",
      "261244452\n",
      "399 764 857\n",
      "261244452\n",
      "399 857 764\n",
      "261244452\n"
     ]
    }
   ],
   "source": [
    "for i in years:\n",
    "    for j in years:\n",
    "        if i == j:\n",
    "            continue\n",
    "        for k in years:\n",
    "            if j == k or i == k:\n",
    "                continue\n",
    "            else:\n",
    "                if i+j+k == 2020:\n",
    "                    print(i, j, k)\n",
    "                    print(i*j*k)"
   ]
  }
 ],
 "metadata": {
  "kernelspec": {
   "display_name": "Python 3",
   "language": "python",
   "name": "python3"
  },
  "language_info": {
   "codemirror_mode": {
    "name": "ipython",
    "version": 3
   },
   "file_extension": ".py",
   "mimetype": "text/x-python",
   "name": "python",
   "nbconvert_exporter": "python",
   "pygments_lexer": "ipython3",
   "version": "3.7.9"
  }
 },
 "nbformat": 4,
 "nbformat_minor": 4
}
