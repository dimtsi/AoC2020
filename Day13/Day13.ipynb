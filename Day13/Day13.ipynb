{
 "cells": [
  {
   "cell_type": "code",
   "execution_count": 1,
   "metadata": {},
   "outputs": [
    {
     "data": {
      "text/plain": [
       "(1000677,\n",
       " ['29',\n",
       "  'x',\n",
       "  'x',\n",
       "  'x',\n",
       "  'x',\n",
       "  'x',\n",
       "  'x',\n",
       "  'x',\n",
       "  'x',\n",
       "  'x',\n",
       "  'x',\n",
       "  'x',\n",
       "  'x',\n",
       "  'x',\n",
       "  'x',\n",
       "  'x',\n",
       "  'x',\n",
       "  'x',\n",
       "  'x',\n",
       "  '41',\n",
       "  'x',\n",
       "  'x',\n",
       "  'x',\n",
       "  'x',\n",
       "  'x',\n",
       "  'x',\n",
       "  'x',\n",
       "  'x',\n",
       "  'x',\n",
       "  '661',\n",
       "  'x',\n",
       "  'x',\n",
       "  'x',\n",
       "  'x',\n",
       "  'x',\n",
       "  'x',\n",
       "  'x',\n",
       "  'x',\n",
       "  'x',\n",
       "  'x',\n",
       "  'x',\n",
       "  'x',\n",
       "  '13',\n",
       "  '17',\n",
       "  'x',\n",
       "  'x',\n",
       "  'x',\n",
       "  'x',\n",
       "  'x',\n",
       "  'x',\n",
       "  'x',\n",
       "  'x',\n",
       "  '23',\n",
       "  'x',\n",
       "  'x',\n",
       "  'x',\n",
       "  'x',\n",
       "  'x',\n",
       "  'x',\n",
       "  'x',\n",
       "  '521',\n",
       "  'x',\n",
       "  'x',\n",
       "  'x',\n",
       "  'x',\n",
       "  'x',\n",
       "  '37',\n",
       "  'x',\n",
       "  'x',\n",
       "  'x',\n",
       "  'x',\n",
       "  'x',\n",
       "  'x',\n",
       "  'x',\n",
       "  'x',\n",
       "  'x',\n",
       "  'x',\n",
       "  'x',\n",
       "  'x',\n",
       "  '19'])"
      ]
     },
     "execution_count": 1,
     "metadata": {},
     "output_type": "execute_result"
    }
   ],
   "source": [
    "with open('input.txt', 'r') as f:\n",
    "    lines = f.readlines()\n",
    "    lines = list(map(lambda x: x.rstrip(), lines))\n",
    "\n",
    "DEPARTURE = int(lines[0])\n",
    "BUSES = lines[1].split(',')\n",
    "DEPARTURE, BUSES"
   ]
  },
  {
   "cell_type": "code",
   "execution_count": 2,
   "metadata": {},
   "outputs": [
    {
     "data": {
      "text/plain": [
       "{29: 1000703,\n",
       " 41: 1000687,\n",
       " 661: 1000754,\n",
       " 13: 1000688,\n",
       " 17: 1000688,\n",
       " 23: 1000684,\n",
       " 521: 1000841,\n",
       " 37: 1000702,\n",
       " 19: 1000692}"
      ]
     },
     "execution_count": 2,
     "metadata": {},
     "output_type": "execute_result"
    }
   ],
   "source": [
    "import re\n",
    "def check_if_bus(inp):\n",
    "    pattern = re.compile(r'\\d+')\n",
    "    \n",
    "    if re.findall(pattern, inp):\n",
    "        return True\n",
    "    return False\n",
    "\n",
    "bus_times = {}\n",
    "for bus in BUSES:\n",
    "    if check_if_bus(bus):\n",
    "        inc = 0\n",
    "        while(True):\n",
    "#             bus = int(bus)\n",
    "            inc += int(bus)\n",
    "            if inc >= DEPARTURE:\n",
    "                bus_times[int(bus)] = inc\n",
    "                break\n",
    "                \n",
    "bus_times\n",
    "    "
   ]
  },
  {
   "cell_type": "code",
   "execution_count": 3,
   "metadata": {},
   "outputs": [
    {
     "data": {
      "text/plain": [
       "161"
      ]
     },
     "execution_count": 3,
     "metadata": {},
     "output_type": "execute_result"
    }
   ],
   "source": [
    "def get_fastest(bus_times):\n",
    "    min_time = 1e17\n",
    "    for k, v in bus_times.items():\n",
    "        if v < min_time:\n",
    "            min_val = k\n",
    "            min_time = v\n",
    "    return (min_val, min_time)\n",
    "\n",
    "fastest_id, fastest_depart = get_fastest(bus_times)\n",
    "\n",
    "(fastest_depart - DEPARTURE)*fastest_id"
   ]
  },
  {
   "cell_type": "code",
   "execution_count": null,
   "metadata": {},
   "outputs": [],
   "source": []
  },
  {
   "cell_type": "code",
   "execution_count": null,
   "metadata": {},
   "outputs": [],
   "source": []
  },
  {
   "cell_type": "code",
   "execution_count": 4,
   "metadata": {},
   "outputs": [
    {
     "data": {
      "text/plain": [
       "{29: 0, 41: 19, 661: 29, 13: 42, 17: 43, 23: 52, 521: 60, 37: 66, 19: 79}"
      ]
     },
     "execution_count": 4,
     "metadata": {},
     "output_type": "execute_result"
    }
   ],
   "source": [
    "bus_dict = {}\n",
    "for i, bus in enumerate(BUSES):\n",
    "    if bus == 'x':\n",
    "        continue\n",
    "    else:\n",
    "        bus_dict[int(bus)] = int(i)\n",
    "bus_dict\n",
    "# bus_dict[58] =  15\n",
    "bus_dict"
   ]
  },
  {
   "cell_type": "code",
   "execution_count": 5,
   "metadata": {},
   "outputs": [
    {
     "data": {
      "text/plain": [
       "[0, 22, 632, 10, 8, 17, 461, 8, 16]"
      ]
     },
     "execution_count": 5,
     "metadata": {},
     "output_type": "execute_result"
    }
   ],
   "source": [
    "VALID_BUSES = [val for val, idx in bus_dict.items()]\n",
    "VALID_IDX  = [idx for val, idx in bus_dict.items()]\n",
    "OFFSET_REMAINDERS = [(val - idx) % val for val, idx in bus_dict.items()]\n",
    "OFFSET_REMAINDERS\n",
    "\n"
   ]
  },
  {
   "cell_type": "code",
   "execution_count": 6,
   "metadata": {},
   "outputs": [
    {
     "data": {
      "text/plain": [
       "[29, 41, 661, 13, 17, 23, 521, 37, 19]"
      ]
     },
     "execution_count": 6,
     "metadata": {},
     "output_type": "execute_result"
    }
   ],
   "source": [
    "VALID_BUSES"
   ]
  },
  {
   "cell_type": "code",
   "execution_count": 7,
   "metadata": {},
   "outputs": [],
   "source": [
    "from math import lcm"
   ]
  },
  {
   "cell_type": "code",
   "execution_count": 10,
   "metadata": {},
   "outputs": [
    {
     "name": "stdout",
     "output_type": "stream",
     "text": [
      "213890632230818\n"
     ]
    }
   ],
   "source": [
    "offset = 0\n",
    "inc = 1\n",
    "\n",
    "for i in range(len(VALID_BUSES)):\n",
    "    while offset % VALID_BUSES[i] != OFFSET_REMAINDERS[i]:\n",
    "#         print(inc)\n",
    "        offset += inc\n",
    "    inc = lcm(inc, VALID_BUSES[i])\n",
    "\n",
    "print(offset)"
   ]
  }
 ],
 "metadata": {
  "kernelspec": {
   "display_name": "Python 3.9",
   "language": "python",
   "name": "python39"
  },
  "language_info": {
   "codemirror_mode": {
    "name": "ipython",
    "version": 3
   },
   "file_extension": ".py",
   "mimetype": "text/x-python",
   "name": "python",
   "nbconvert_exporter": "python",
   "pygments_lexer": "ipython3",
   "version": "3.9.1"
  },
  "toc": {
   "base_numbering": 1,
   "nav_menu": {},
   "number_sections": true,
   "sideBar": true,
   "skip_h1_title": false,
   "title_cell": "Table of Contents",
   "title_sidebar": "Contents",
   "toc_cell": false,
   "toc_position": {},
   "toc_section_display": true,
   "toc_window_display": false
  }
 },
 "nbformat": 4,
 "nbformat_minor": 2
}
