{
 "cells": [
  {
   "cell_type": "code",
   "execution_count": 12,
   "metadata": {},
   "outputs": [
    {
     "data": {
      "text/plain": [
       "(939, ['7', '13', 'x', 'x', '59', 'x', '31', '19'])"
      ]
     },
     "execution_count": 12,
     "metadata": {},
     "output_type": "execute_result"
    }
   ],
   "source": [
    "with open('sample1.txt', 'r') as f:\n",
    "    lines = f.readlines()\n",
    "    lines = list(map(lambda x: x.rstrip(), lines))\n",
    "\n",
    "DEPARTURE = int(lines[0])\n",
    "BUSES = lines[1].split(',')\n",
    "DEPARTURE, BUSES"
   ]
  },
  {
   "cell_type": "code",
   "execution_count": 13,
   "metadata": {},
   "outputs": [
    {
     "data": {
      "text/plain": [
       "{'bus': 950, 7: 945, 13: 949, 59: 944, 31: 961, 19: 950}"
      ]
     },
     "execution_count": 13,
     "metadata": {},
     "output_type": "execute_result"
    }
   ],
   "source": [
    "import re\n",
    "def check_if_bus(inp):\n",
    "    pattern = re.compile(r'\\d+')\n",
    "    \n",
    "    if re.findall(pattern, inp):\n",
    "        return True\n",
    "    return False\n",
    "\n",
    "bus_times = {}\n",
    "for bus in BUSES:\n",
    "    if check_if_bus(bus):\n",
    "        inc = 0\n",
    "        while(True):\n",
    "#             bus = int(bus)\n",
    "            inc += int(bus)\n",
    "            bus_times['bus'] = inc\n",
    "            if inc >= DEPARTURE:\n",
    "                bus_times[int(bus)] = inc\n",
    "                break\n",
    "                \n",
    "bus_times\n",
    "    "
   ]
  },
  {
   "cell_type": "code",
   "execution_count": 14,
   "metadata": {},
   "outputs": [
    {
     "data": {
      "text/plain": [
       "295"
      ]
     },
     "execution_count": 14,
     "metadata": {},
     "output_type": "execute_result"
    }
   ],
   "source": [
    "def get_fastest(bus_times):\n",
    "    min_time = 1e17\n",
    "    for k, v in bus_times.items():\n",
    "        if v < min_time:\n",
    "            min_val = k\n",
    "            min_time = v\n",
    "    return (min_val, min_time)\n",
    "\n",
    "fastest_id, fastest_depart = get_fastest(bus_times)\n",
    "\n",
    "(fastest_depart - DEPARTURE)*fastest_id"
   ]
  },
  {
   "cell_type": "code",
   "execution_count": 15,
   "metadata": {},
   "outputs": [
    {
     "data": {
      "text/plain": [
       "0"
      ]
     },
     "execution_count": 15,
     "metadata": {},
     "output_type": "execute_result"
    }
   ],
   "source": [
    "3 % 3"
   ]
  },
  {
   "cell_type": "code",
   "execution_count": 16,
   "metadata": {},
   "outputs": [],
   "source": [
    "## Part2\n",
    "\n",
    "def check_if_departs(bus_id, timestamp):\n",
    "#     print(bus_id, timestamp)\n",
    "    if timestamp % bus_id == 0:\n",
    "        return True\n",
    "    return False\n",
    "    \n"
   ]
  },
  {
   "cell_type": "code",
   "execution_count": 7,
   "metadata": {},
   "outputs": [
    {
     "data": {
      "text/plain": [
       "[29,\n",
       " 1,\n",
       " 1,\n",
       " 1,\n",
       " 1,\n",
       " 1,\n",
       " 1,\n",
       " 1,\n",
       " 1,\n",
       " 1,\n",
       " 1,\n",
       " 1,\n",
       " 1,\n",
       " 1,\n",
       " 1,\n",
       " 1,\n",
       " 1,\n",
       " 1,\n",
       " 1,\n",
       " 41,\n",
       " 1,\n",
       " 1,\n",
       " 1,\n",
       " 1,\n",
       " 1,\n",
       " 1,\n",
       " 1,\n",
       " 1,\n",
       " 1,\n",
       " 661,\n",
       " 1,\n",
       " 1,\n",
       " 1,\n",
       " 1,\n",
       " 1,\n",
       " 1,\n",
       " 1,\n",
       " 1,\n",
       " 1,\n",
       " 1,\n",
       " 1,\n",
       " 1,\n",
       " 13,\n",
       " 17,\n",
       " 1,\n",
       " 1,\n",
       " 1,\n",
       " 1,\n",
       " 1,\n",
       " 1,\n",
       " 1,\n",
       " 1,\n",
       " 23,\n",
       " 1,\n",
       " 1,\n",
       " 1,\n",
       " 1,\n",
       " 1,\n",
       " 1,\n",
       " 1,\n",
       " 521,\n",
       " 1,\n",
       " 1,\n",
       " 1,\n",
       " 1,\n",
       " 1,\n",
       " 37,\n",
       " 1,\n",
       " 1,\n",
       " 1,\n",
       " 1,\n",
       " 1,\n",
       " 1,\n",
       " 1,\n",
       " 1,\n",
       " 1,\n",
       " 1,\n",
       " 1,\n",
       " 1,\n",
       " 19]"
      ]
     },
     "execution_count": 7,
     "metadata": {},
     "output_type": "execute_result"
    }
   ],
   "source": [
    "VALID_BUSES = [int(bus) if check_if_bus(bus) else 1 for bus in BUSES ]\n",
    "VALID_BUSES"
   ]
  },
  {
   "cell_type": "code",
   "execution_count": 11,
   "metadata": {},
   "outputs": [
    {
     "data": {
      "text/plain": [
       "{29: 1, 41: 20, 661: 30, 13: 43, 17: 44, 23: 53, 521: 61, 37: 67, 19: 80}"
      ]
     },
     "execution_count": 11,
     "metadata": {},
     "output_type": "execute_result"
    }
   ],
   "source": [
    "bus_dict = {}\n",
    "for i, bus in enumerate(VALID_BUSES):\n",
    "    if bus == 1:\n",
    "        continue\n",
    "    else:\n",
    "        bus_dict[bus] = i+1\n",
    "bus_dict"
   ]
  },
  {
   "cell_type": "code",
   "execution_count": 9,
   "metadata": {},
   "outputs": [
    {
     "data": {
      "text/plain": [
       "0"
      ]
     },
     "execution_count": 9,
     "metadata": {},
     "output_type": "execute_result"
    }
   ],
   "source": [
    "from functools import reduce\n",
    "\n",
    "def gcd(a, b):\n",
    "    \"\"\"Return greatest common divisor using Euclid's Algorithm.\"\"\"\n",
    "    while b:      \n",
    "        a, b = b, a % b\n",
    "    return a\n",
    "\n",
    "def lcm(a, b):\n",
    "    \"\"\"Return lowest common multiple.\"\"\"\n",
    "    return a * b // gcd(a, b)\n",
    "\n",
    "def lcmm(*args):\n",
    "    \"\"\"Return lcm of args.\"\"\"   \n",
    "    return reduce(lcm, args)\n",
    "\n",
    "\n",
    "lcmm(*(list(bus_dict.values())))"
   ]
  },
  {
   "cell_type": "code",
   "execution_count": null,
   "metadata": {},
   "outputs": [],
   "source": [
    "possible_indexes = "
   ]
  },
  {
   "cell_type": "code",
   "execution_count": 10,
   "metadata": {},
   "outputs": [
    {
     "name": "stdout",
     "output_type": "stream",
     "text": [
      "reached\n"
     ]
    },
    {
     "ename": "KeyboardInterrupt",
     "evalue": "",
     "output_type": "error",
     "traceback": [
      "\u001b[0;31m---------------------------------------------------------------------------\u001b[0m",
      "\u001b[0;31mKeyboardInterrupt\u001b[0m                         Traceback (most recent call last)",
      "\u001b[0;32m<ipython-input-10-3ae90adcda60>\u001b[0m in \u001b[0;36m<module>\u001b[0;34m\u001b[0m\n\u001b[1;32m      6\u001b[0m \u001b[0;34m\u001b[0m\u001b[0m\n\u001b[1;32m      7\u001b[0m \u001b[0;32mwhile\u001b[0m\u001b[0;34m(\u001b[0m\u001b[0;32mTrue\u001b[0m\u001b[0;34m)\u001b[0m\u001b[0;34m:\u001b[0m\u001b[0;34m\u001b[0m\u001b[0;34m\u001b[0m\u001b[0m\n\u001b[0;32m----> 8\u001b[0;31m     \u001b[0mnew_offset\u001b[0m \u001b[0;34m=\u001b[0m \u001b[0mnew_max_val\u001b[0m\u001b[0;34m-\u001b[0m\u001b[0mMAX_IDX\u001b[0m\u001b[0;34m\u001b[0m\u001b[0;34m\u001b[0m\u001b[0m\n\u001b[0m\u001b[1;32m      9\u001b[0m     \u001b[0;32mif\u001b[0m \u001b[0mcheck_if_departs\u001b[0m\u001b[0;34m(\u001b[0m\u001b[0mVALID_BUSES\u001b[0m\u001b[0;34m[\u001b[0m\u001b[0;36m0\u001b[0m\u001b[0;34m]\u001b[0m\u001b[0;34m,\u001b[0m \u001b[0mnew_offset\u001b[0m\u001b[0;34m)\u001b[0m\u001b[0;34m:\u001b[0m\u001b[0;34m\u001b[0m\u001b[0;34m\u001b[0m\u001b[0m\n\u001b[1;32m     10\u001b[0m         \u001b[0;32mfor\u001b[0m \u001b[0mi\u001b[0m\u001b[0;34m,\u001b[0m \u001b[0mbus\u001b[0m \u001b[0;32min\u001b[0m \u001b[0menumerate\u001b[0m\u001b[0;34m(\u001b[0m\u001b[0mVALID_BUSES\u001b[0m\u001b[0;34m)\u001b[0m\u001b[0;34m:\u001b[0m\u001b[0;34m\u001b[0m\u001b[0;34m\u001b[0m\u001b[0m\n",
      "\u001b[0;31mKeyboardInterrupt\u001b[0m: "
     ]
    }
   ],
   "source": [
    "MAX_VAL = max(VALID_BUSES)\n",
    "MAX_IDX = VALID_BUSES.index(MAX_VAL)\n",
    "all_max = (MAX_VAL*i for i in range(1, 1000000000))\n",
    "print(\"reached\")\n",
    "new_max_val = MAX_VAL\n",
    "\n",
    "while(True):\n",
    "    new_offset = new_max_val-MAX_IDX\n",
    "    if check_if_departs(VALID_BUSES[0], new_offset):\n",
    "        for i, bus in enumerate(VALID_BUSES):\n",
    "            if bus == 1:\n",
    "                continue\n",
    "            if not check_if_departs(bus, new_offset+i):\n",
    "                break\n",
    "            if i == len(VALID_BUSES) - 1:\n",
    "                print(new_offset)\n",
    "                break\n",
    "    new_max_val += MAX_VAL"
   ]
  },
  {
   "cell_type": "code",
   "execution_count": 29,
   "metadata": {},
   "outputs": [
    {
     "ename": "IndentationError",
     "evalue": "unexpected indent (<ipython-input-29-b87fc7c9404e>, line 12)",
     "output_type": "error",
     "traceback": [
      "\u001b[0;36m  File \u001b[0;32m\"<ipython-input-29-b87fc7c9404e>\"\u001b[0;36m, line \u001b[0;32m12\u001b[0m\n\u001b[0;31m    break\u001b[0m\n\u001b[0m    ^\u001b[0m\n\u001b[0;31mIndentationError\u001b[0m\u001b[0;31m:\u001b[0m unexpected indent\n"
     ]
    }
   ],
   "source": [
    "def get_next_offset_from_max_val(offset):\n",
    "    counter = (MAX_VAL - MAX_IDX) / offset\n",
    "    print(counter)\n",
    "    new_offset = counter*max_val\n",
    "#     print(new_offset) \n",
    "    while(True):\n",
    "        #     print(max_val_new_i\n",
    "        if new_offset > 1068900:\n",
    "            break\n",
    "        counter = (offset + MAX_IDX) / MAX_VAL\n",
    "        print(new_offset)\n",
    "            break\n",
    "        if check_if_departs(VALID_BUSES[0], new_offset) and new_offset != 0 and check_if_departs(MAX_VAL, new_offset+MAX_IDX):\n",
    "            return(new_offset)\n",
    "#         else:\n",
    "        counter += 1\n",
    "        new_offset = counter*1\n",
    "#         new_offset = counter*MAX_VAL\n",
    "#         print(new_offset)\n",
    "\n",
    "    \n",
    "# offset = 0 \n",
    "# flag = False\n",
    "# while(True):\n",
    "#     if offset == 1068781:\n",
    "#         print(\"parsed\")\n",
    "#     if flag:\n",
    "#         print(offset)\n",
    "#         break\n",
    "    \n",
    "#     offset = get_next_offset_from_max_val(offset + MAX_IDX)\n",
    "#     print(offset)  \n",
    "# # bus = int(bus)\n",
    "#     for i, bus in enumerate(VALID_BUSES):\n",
    "# #         bus = int(bus)\n",
    "#         if not check_if_departs(int(bus), offset+i):\n",
    "#             break\n",
    "#         if i == len(BUSES) -1:\n",
    "#             flag = True\n",
    "#     print(offset)"
   ]
  },
  {
   "cell_type": "code",
   "execution_count": 15,
   "metadata": {},
   "outputs": [
    {
     "data": {
      "text/plain": [
       "59"
      ]
     },
     "execution_count": 15,
     "metadata": {},
     "output_type": "execute_result"
    }
   ],
   "source": [
    "MAX_VAL"
   ]
  },
  {
   "cell_type": "code",
   "execution_count": 26,
   "metadata": {},
   "outputs": [
    {
     "name": "stdout",
     "output_type": "stream",
     "text": [
      "58.0\n"
     ]
    },
    {
     "ename": "NameError",
     "evalue": "name 'max_val' is not defined",
     "output_type": "error",
     "traceback": [
      "\u001b[0;31m---------------------------------------------------------------------------\u001b[0m",
      "\u001b[0;31mNameError\u001b[0m                                 Traceback (most recent call last)",
      "\u001b[0;32m<ipython-input-26-853682546aee>\u001b[0m in \u001b[0;36m<module>\u001b[0;34m\u001b[0m\n\u001b[1;32m      1\u001b[0m \u001b[0moffset\u001b[0m \u001b[0;34m=\u001b[0m \u001b[0;36m0\u001b[0m\u001b[0;34m\u001b[0m\u001b[0;34m\u001b[0m\u001b[0m\n\u001b[1;32m      2\u001b[0m \u001b[0;32mwhile\u001b[0m\u001b[0;34m(\u001b[0m\u001b[0;32mTrue\u001b[0m\u001b[0;34m)\u001b[0m\u001b[0;34m:\u001b[0m\u001b[0;34m\u001b[0m\u001b[0;34m\u001b[0m\u001b[0m\n\u001b[0;32m----> 3\u001b[0;31m     \u001b[0moffset\u001b[0m \u001b[0;34m=\u001b[0m \u001b[0mget_next_offset_from_max_val\u001b[0m\u001b[0;34m(\u001b[0m\u001b[0moffset\u001b[0m\u001b[0;34m)\u001b[0m\u001b[0;34m\u001b[0m\u001b[0;34m\u001b[0m\u001b[0m\n\u001b[0m\u001b[1;32m      4\u001b[0m \u001b[0;31m#     print(offset)\u001b[0m\u001b[0;34m\u001b[0m\u001b[0;34m\u001b[0m\u001b[0;34m\u001b[0m\u001b[0m\n",
      "\u001b[0;32m<ipython-input-25-ce73dbba3663>\u001b[0m in \u001b[0;36mget_next_offset_from_max_val\u001b[0;34m(offset)\u001b[0m\n\u001b[1;32m      2\u001b[0m     \u001b[0mcounter\u001b[0m \u001b[0;34m=\u001b[0m \u001b[0mMAX_VAL\u001b[0m \u001b[0;34m-\u001b[0m \u001b[0mMAX_IDX\u001b[0m \u001b[0;34m/\u001b[0m \u001b[0;36m4\u001b[0m\u001b[0;34m\u001b[0m\u001b[0;34m\u001b[0m\u001b[0m\n\u001b[1;32m      3\u001b[0m     \u001b[0mprint\u001b[0m\u001b[0;34m(\u001b[0m\u001b[0mcounter\u001b[0m\u001b[0;34m)\u001b[0m\u001b[0;34m\u001b[0m\u001b[0;34m\u001b[0m\u001b[0m\n\u001b[0;32m----> 4\u001b[0;31m     \u001b[0mnew_offset\u001b[0m \u001b[0;34m=\u001b[0m \u001b[0mcounter\u001b[0m\u001b[0;34m*\u001b[0m\u001b[0mmax_val\u001b[0m\u001b[0;34m\u001b[0m\u001b[0;34m\u001b[0m\u001b[0m\n\u001b[0m\u001b[1;32m      5\u001b[0m \u001b[0;31m#     print(new_offset)\u001b[0m\u001b[0;34m\u001b[0m\u001b[0;34m\u001b[0m\u001b[0;34m\u001b[0m\u001b[0m\n\u001b[1;32m      6\u001b[0m     \u001b[0;32mwhile\u001b[0m\u001b[0;34m(\u001b[0m\u001b[0;32mTrue\u001b[0m\u001b[0;34m)\u001b[0m\u001b[0;34m:\u001b[0m\u001b[0;34m\u001b[0m\u001b[0;34m\u001b[0m\u001b[0m\n",
      "\u001b[0;31mNameError\u001b[0m: name 'max_val' is not defined"
     ]
    }
   ],
   "source": [
    "offset = 0\n",
    "while(True):\n",
    "    offset = get_next_offset_from_max_val(offset)\n",
    "#     print(offset)"
   ]
  },
  {
   "cell_type": "code",
   "execution_count": 32,
   "metadata": {},
   "outputs": [
    {
     "name": "stdout",
     "output_type": "stream",
     "text": [
      "1068781\n"
     ]
    }
   ],
   "source": [
    "## brute-force\n",
    "\n",
    "N = len(BUSES)\n",
    "# max_val \n",
    "offset = len(BUSES)\n",
    "flag = False\n",
    "while(True):\n",
    "    if flag:\n",
    "        break\n",
    "    for i, bus in enumerate(BUSES):\n",
    "#         bus = int(bus)\n",
    "        if check_if_bus(bus):\n",
    "            if not check_if_departs(int(bus), offset+i):\n",
    "                offset += 1\n",
    "                break\n",
    "        else:\n",
    "            continue\n",
    "            \n",
    "            \n",
    "        if i == len(BUSES)-1:\n",
    "            print(offset)\n",
    "            flag = True\n",
    "    "
   ]
  },
  {
   "cell_type": "code",
   "execution_count": null,
   "metadata": {},
   "outputs": [],
   "source": [
    "MAX_VAL = max(VALID_BUSES)\n",
    "MAX_IDX = VALID_BUSES.index(MAX_VAL)\n",
    "\n",
    "def get_next_offset(offset):\n",
    "    print(f\"offset: {offset}\")\n",
    "\n",
    "    next_poss_offset = offset + MAX_VAL - MAX_IDX\n",
    "\n",
    "    while(True):\n",
    "        print(next_poss_offset)\n",
    "        if check_if_departs(VALID_BUSES[MAX_IDX], next_poss_offset+MAX_IDX):\n",
    "#             return next_max_val-max_idx\n",
    "            print(next_poss_offset)\n",
    "            print('YES')\n",
    "            return next_poss_offset\n",
    "        else:\n",
    "            next_poss_offset = next_poss_offset + MAX_VAL - MAX_IDX\n",
    "        \n",
    "#         if next_max_val < offset:\n",
    "#             continue\n",
    "#         next_max_val += max_val\n",
    "#         new_timestamp\n",
    "#         if check_if_departs(VALID_BUSES[0], next_max_val-max_idx):\n",
    "#             return next_max_val-max_idx\n",
    "    \n",
    "#     print(f\"next max val: {next_max_val}\")\n",
    "# #     print(max_idx)\n",
    "#     while(True):\n",
    "#         next_max_val += max_val\n",
    "#         if next_max_val < offset:\n",
    "#             continue\n",
    "#         print(f\"next_max {next_max_val}\")\n",
    "#         tstamp = offset + next_max_val - max_idx\n",
    "# #         print(timestamp)\n",
    "#         if check_if_departs(VALID_BUSES[0], tstamp):\n",
    "#             print(tstamp)\n",
    "#             return tstamp\n",
    "\n",
    "offset = 0\n",
    "# new_timestamp = offset\n",
    "while(True):\n",
    "#     print(offset)\n",
    "\n",
    "    offset = get_next_offset(offset)"
   ]
  }
 ],
 "metadata": {
  "kernelspec": {
   "display_name": "Python 3",
   "language": "python",
   "name": "python3"
  },
  "language_info": {
   "codemirror_mode": {
    "name": "ipython",
    "version": 3
   },
   "file_extension": ".py",
   "mimetype": "text/x-python",
   "name": "python",
   "nbconvert_exporter": "python",
   "pygments_lexer": "ipython3",
   "version": "3.7.4"
  },
  "toc": {
   "base_numbering": 1,
   "nav_menu": {},
   "number_sections": true,
   "sideBar": true,
   "skip_h1_title": false,
   "title_cell": "Table of Contents",
   "title_sidebar": "Contents",
   "toc_cell": false,
   "toc_position": {},
   "toc_section_display": true,
   "toc_window_display": false
  }
 },
 "nbformat": 4,
 "nbformat_minor": 2
}
