{
 "cells": [
  {
   "cell_type": "code",
   "execution_count": 1,
   "metadata": {},
   "outputs": [
    {
     "data": {
      "text/plain": [
       "[['wvruioftxhnd', 'ftwrxdoniuv', 'rqxnvtiwduof', 'wadiftcnvoulxr'],\n",
       " ['vjbzaqs', 'bovlts'],\n",
       " ['d', 'r', 'r', 'p', 'd'],\n",
       " ['erxwkjlv', 'jpoefrlx', 'kjrwxeld'],\n",
       " ['amfyktnvudpxwseiqzbclg', 'xbdjqumctpaeinykrzwvlh']]"
      ]
     },
     "execution_count": 1,
     "metadata": {},
     "output_type": "execute_result"
    }
   ],
   "source": [
    "groups = []\n",
    "\n",
    "with open('input.txt', \"r\") as f:\n",
    "    lines = f.read().rstrip().split(\"\\n\\n\")\n",
    "    groups = [x.split(sep=\"\\n\") for x in lines]\n",
    "groups[:5]"
   ]
  },
  {
   "cell_type": "code",
   "execution_count": 3,
   "metadata": {},
   "outputs": [
    {
     "data": {
      "text/plain": [
       "[[{'d', 'f', 'h', 'i', 'n', 'o', 'r', 't', 'u', 'v', 'w', 'x'},\n",
       "  {'d', 'f', 'i', 'n', 'o', 'r', 't', 'u', 'v', 'w', 'x'},\n",
       "  {'d', 'f', 'i', 'n', 'o', 'q', 'r', 't', 'u', 'v', 'w', 'x'},\n",
       "  {'a', 'c', 'd', 'f', 'i', 'l', 'n', 'o', 'r', 't', 'u', 'v', 'w', 'x'}],\n",
       " [{'a', 'b', 'j', 'q', 's', 'v', 'z'}, {'b', 'l', 'o', 's', 't', 'v'}]]"
      ]
     },
     "execution_count": 3,
     "metadata": {},
     "output_type": "execute_result"
    }
   ],
   "source": [
    "set_groups = []\n",
    "for group in groups:\n",
    "    set_groups.append(list(map(set, group)))\n",
    "set_groups[:2]"
   ]
  },
  {
   "cell_type": "code",
   "execution_count": 5,
   "metadata": {},
   "outputs": [
    {
     "data": {
      "text/plain": [
       "[{'a',\n",
       "  'c',\n",
       "  'd',\n",
       "  'f',\n",
       "  'h',\n",
       "  'i',\n",
       "  'l',\n",
       "  'n',\n",
       "  'o',\n",
       "  'q',\n",
       "  'r',\n",
       "  't',\n",
       "  'u',\n",
       "  'v',\n",
       "  'w',\n",
       "  'x'},\n",
       " {'a', 'b', 'j', 'l', 'o', 'q', 's', 't', 'v', 'z'}]"
      ]
     },
     "execution_count": 5,
     "metadata": {},
     "output_type": "execute_result"
    }
   ],
   "source": [
    "from functools import reduce\n",
    "\n",
    "set_groups_reduced = []\n",
    "\n",
    "\n",
    "for group in set_groups:\n",
    "    set_groups_reduced.append(set.union(*group))\n",
    "set_groups_reduced[:2]\n",
    "\n"
   ]
  },
  {
   "cell_type": "code",
   "execution_count": 6,
   "metadata": {},
   "outputs": [
    {
     "data": {
      "text/plain": [
       "[16, 10, 3, 12, 25]"
      ]
     },
     "execution_count": 6,
     "metadata": {},
     "output_type": "execute_result"
    }
   ],
   "source": [
    "import numpy as np\n",
    "\n",
    "counts = list(map(len, set_groups_reduced))\n",
    "counts[:5]"
   ]
  },
  {
   "cell_type": "code",
   "execution_count": 7,
   "metadata": {},
   "outputs": [
    {
     "data": {
      "text/plain": [
       "6778"
      ]
     },
     "execution_count": 7,
     "metadata": {},
     "output_type": "execute_result"
    }
   ],
   "source": [
    "sum(counts)"
   ]
  },
  {
   "cell_type": "code",
   "execution_count": 7,
   "metadata": {},
   "outputs": [
    {
     "data": {
      "text/plain": [
       "[{'d', 'f', 'i', 'n', 'o', 'r', 't', 'u', 'v', 'w', 'x'},\n",
       " {'b', 's', 'v'},\n",
       " set(),\n",
       " {'e', 'j', 'l', 'r', 'x'},\n",
       " {'a',\n",
       "  'b',\n",
       "  'c',\n",
       "  'd',\n",
       "  'e',\n",
       "  'i',\n",
       "  'k',\n",
       "  'l',\n",
       "  'm',\n",
       "  'n',\n",
       "  'p',\n",
       "  'q',\n",
       "  't',\n",
       "  'u',\n",
       "  'v',\n",
       "  'w',\n",
       "  'x',\n",
       "  'y',\n",
       "  'z'}]"
      ]
     },
     "execution_count": 7,
     "metadata": {},
     "output_type": "execute_result"
    }
   ],
   "source": [
    "from functools import reduce\n",
    "\n",
    "set_groups_reduced = []\n",
    "\n",
    "\n",
    "for group in set_groups:\n",
    "    set_groups_reduced.append(set.intersection(*group))\n",
    "set_groups_reduced[:5]"
   ]
  },
  {
   "cell_type": "code",
   "execution_count": 8,
   "metadata": {},
   "outputs": [
    {
     "data": {
      "text/plain": [
       "3406"
      ]
     },
     "execution_count": 8,
     "metadata": {},
     "output_type": "execute_result"
    }
   ],
   "source": [
    "counts = list(map(len, set_groups_reduced))\n",
    "sum(counts)"
   ]
  }
 ],
 "metadata": {
  "kernelspec": {
   "display_name": "gaia-base",
   "language": "python",
   "name": "gaia-base"
  },
  "language_info": {
   "codemirror_mode": {
    "name": "ipython",
    "version": 3
   },
   "file_extension": ".py",
   "mimetype": "text/x-python",
   "name": "python",
   "nbconvert_exporter": "python",
   "pygments_lexer": "ipython3",
   "version": "3.7.9"
  }
 },
 "nbformat": 4,
 "nbformat_minor": 4
}
