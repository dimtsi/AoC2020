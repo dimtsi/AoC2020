{
 "cells": [
  {
   "cell_type": "code",
   "execution_count": 16,
   "metadata": {
    "scrolled": false
   },
   "outputs": [
    {
     "name": "stdout",
     "output_type": "stream",
     "text": [
      "{'departure location': ['27-180', '187-953'], 'departure station': ['47-527', '545-958'], 'departure platform': ['36-566', '572-973'], 'departure track': ['37-497', '505-971'], 'departure date': ['47-707', '719-969'], 'departure time': ['36-275', '290-949'], 'arrival location': ['31-855', '864-955'], 'arrival station': ['50-148', '158-949'], 'arrival platform': ['50-441', '467-965'], 'arrival track': ['30-648', '659-962'], 'class': ['26-470', '481-966'], 'duration': ['27-808', '818-958'], 'price': ['49-769', '784-970'], 'route': ['49-796', '809-964'], 'row': ['42-362', '383-971'], 'seat': ['34-877', '887-952'], 'train': ['31-354', '363-950'], 'type': ['39-208', '231-953'], 'wagon': ['47-736', '746-968'], 'zone': ['44-290', '310-974']}\n",
      "\n",
      "[97, 61, 53, 101, 131, 163, 79, 103, 67, 127, 71, 109, 89, 107, 83, 73, 113, 59, 137, 139]\n",
      "\n",
      "[[93, 566, 873, 796, 908, 899, 408, 393, 621, 571, 546, 549, 494, 631, 940, 491, 561, 108, 395, 258], [609, 949, 551, 408, 648, 723, 627, 428, 905, 665, 248, 557, 630, 169, 494, 583, 680, 658, 677, 385]]\n"
     ]
    }
   ],
   "source": [
    "with open('input.txt') as f:\n",
    "    lines = f.read().rstrip().split('\\n')\n",
    "\n",
    "\n",
    "def parse_rule(line):\n",
    "    possible_rules = (line.split(': ')[1]).split(' or ')\n",
    "    return (line.split(': ')[0], possible_rules)\n",
    "\n",
    "def parse_ticket(line):\n",
    "    return list(map(int, line.split(',')))\n",
    "\n",
    "\n",
    "val = 'rule'\n",
    "\n",
    "rules = {}\n",
    "other_tickets = []\n",
    "\n",
    "i = -1\n",
    "while(True):\n",
    "    i += 1\n",
    "    if i == len(lines):\n",
    "        break\n",
    "        \n",
    "    line = lines[i]\n",
    "    \n",
    "    if line == '':\n",
    "        continue\n",
    "    if line.startswith('your ticket'):\n",
    "        val = 'myticket'\n",
    "        continue\n",
    "    if line.startswith('nearby tickets'):\n",
    "        val = 'other_tickets'\n",
    "        continue\n",
    "        \n",
    "    if val == 'rule':\n",
    "        k, v = parse_rule(line)\n",
    "        rules[k] = v\n",
    "    elif val == 'myticket':\n",
    "        my_ticket = parse_ticket(line)\n",
    "    elif val == 'other_tickets':\n",
    "        other_tickets.append(parse_ticket(line))\n",
    "        \n",
    "print(rules)\n",
    "print()\n",
    "print(my_ticket)\n",
    "print()\n",
    "print(other_tickets[:2])\n",
    "\n"
   ]
  },
  {
   "cell_type": "code",
   "execution_count": 29,
   "metadata": {},
   "outputs": [],
   "source": [
    "rules_min_max = []\n",
    "\n",
    "def get_rule_min_max(rule):\n",
    "    return list(map(int, rule.split('-')))\n",
    "\n",
    "for field in rules.values():\n",
    "    for rule_range in field:\n",
    "        rules_min_max.append(get_rule_min_max(rule_range))\n",
    "        \n",
    "POSS_VALUES = set()\n",
    "\n",
    "for min_val, max_val in rules_min_max:\n",
    "    for i in range(min_val, max_val+1):\n",
    "        POSS_VALUES.add(i)\n",
    "# POSS_VALUES"
   ]
  },
  {
   "cell_type": "code",
   "execution_count": 30,
   "metadata": {},
   "outputs": [
    {
     "name": "stdout",
     "output_type": "stream",
     "text": [
      "[22, 24, 26, 29, 34, 38, 39, 42, 45, 51, 53, 54, 56, 65, 70, 73, 77, 79, 84, 85, 88, 94, 95, 100, 114, 127, 128, 133, 147, 153, 154, 156, 171, 178, 186, 192, 193, 199, 200, 201, 202, 211, 212, 213, 217, 227, 230, 234]\n"
     ]
    }
   ],
   "source": [
    "invalid_vals = []\n",
    "invalid_idxs = []\n",
    "\n",
    "for idx, ticket in enumerate(other_tickets):\n",
    "    for val in ticket:\n",
    "        if val not in POSS_VALUES:\n",
    "            invalid_vals.append(val)\n",
    "            invalid_idxs.append(idx)\n",
    "print(invalid_idxs)"
   ]
  },
  {
   "cell_type": "code",
   "execution_count": 31,
   "metadata": {},
   "outputs": [
    {
     "data": {
      "text/plain": [
       "22057"
      ]
     },
     "execution_count": 31,
     "metadata": {},
     "output_type": "execute_result"
    }
   ],
   "source": [
    "sum(invalid_vals)"
   ]
  },
  {
   "cell_type": "code",
   "execution_count": 20,
   "metadata": {},
   "outputs": [],
   "source": [
    "##Part 2:\n",
    "valid_tickets = [ticket for i, ticket in enumerate(other_tickets) if i not in invalid_idxs]"
   ]
  },
  {
   "cell_type": "code",
   "execution_count": 24,
   "metadata": {},
   "outputs": [],
   "source": [
    "def get_poss_vals_per_field(field):\n",
    "    poss_values = set()\n",
    "    rules_min_maxes = []\n",
    "    for rule_range in rules[field]:\n",
    "        rules_min_maxes.append(get_rule_min_max(rule_range))\n",
    "    \n",
    "    for min_val, max_val in rules_min_maxes:\n",
    "        for i in range(min_val, max_val+1):\n",
    "            poss_values.add(i)\n",
    "    return poss_values\n",
    "            \n",
    "\n",
    "    \n",
    "    \n",
    "rules_dict = {k: get_poss_vals_per_field(k) for k in rules.keys()}\n",
    "# rules_dict['departure location']"
   ]
  },
  {
   "cell_type": "code",
   "execution_count": 25,
   "metadata": {},
   "outputs": [],
   "source": [
    "from collections import defaultdict\n",
    "\n",
    "CANDIDATES = defaultdict(lambda: set())\n",
    "\n",
    "for col in range(len(my_ticket)):\n",
    "    col_vals = set(map(lambda x: x[col], valid_tickets))\n",
    "    \n",
    "    for rule in rules.keys():\n",
    "        if col_vals.issubset(rules_dict[rule]):\n",
    "            CANDIDATES[rule].add(col)\n",
    "\n",
    "\n",
    "FINAL_CANDS = {}\n",
    "\n",
    "\n",
    "N = len(CANDIDATES)\n",
    "\n",
    "while(True):\n",
    "    if len(FINAL_CANDS) == N:\n",
    "        break\n",
    "    for k, v in CANDIDATES.items():\n",
    "        if len(v) == 1:\n",
    "            val = list(v)[0]\n",
    "            FINAL_CANDS[k] = val\n",
    "\n",
    "            for key, vals in CANDIDATES.items():\n",
    "                if val in vals:\n",
    "                    CANDIDATES[key].remove(val)\n",
    "            CANDIDATES.pop(k)\n",
    "            break\n",
    "\n",
    "        else: \n",
    "            continue"
   ]
  },
  {
   "cell_type": "code",
   "execution_count": 26,
   "metadata": {},
   "outputs": [
    {
     "data": {
      "text/plain": [
       "{'arrival track': 3,\n",
       " 'class': 7,\n",
       " 'price': 13,\n",
       " 'type': 4,\n",
       " 'row': 2,\n",
       " 'wagon': 16,\n",
       " 'train': 10,\n",
       " 'departure platform': 0,\n",
       " 'departure track': 17,\n",
       " 'departure date': 19,\n",
       " 'departure time': 6,\n",
       " 'departure station': 9,\n",
       " 'departure location': 18,\n",
       " 'route': 11,\n",
       " 'arrival platform': 1,\n",
       " 'zone': 8,\n",
       " 'seat': 5,\n",
       " 'arrival location': 12,\n",
       " 'duration': 14,\n",
       " 'arrival station': 15}"
      ]
     },
     "execution_count": 26,
     "metadata": {},
     "output_type": "execute_result"
    }
   ],
   "source": [
    "FINAL_CANDS"
   ]
  },
  {
   "cell_type": "code",
   "execution_count": 27,
   "metadata": {},
   "outputs": [
    {
     "data": {
      "text/plain": [
       "[0, 17, 19, 6, 9, 18]"
      ]
     },
     "execution_count": 27,
     "metadata": {},
     "output_type": "execute_result"
    }
   ],
   "source": [
    "departure_idxs = [v for k, v in FINAL_CANDS.items() if 'departure' in k]\n",
    "departure_idxs"
   ]
  },
  {
   "cell_type": "code",
   "execution_count": 28,
   "metadata": {},
   "outputs": [
    {
     "data": {
      "text/plain": [
       "1093427331937"
      ]
     },
     "execution_count": 28,
     "metadata": {},
     "output_type": "execute_result"
    }
   ],
   "source": [
    "myticket_vals = [my_ticket[i] for i in departure_idxs]\n",
    "\n",
    "from functools import reduce\n",
    "reduce(lambda x, y: x*y, myticket_vals)"
   ]
  }
 ],
 "metadata": {
  "kernelspec": {
   "display_name": "Python 3.9",
   "language": "python",
   "name": "python39"
  },
  "language_info": {
   "codemirror_mode": {
    "name": "ipython",
    "version": 3
   },
   "file_extension": ".py",
   "mimetype": "text/x-python",
   "name": "python",
   "nbconvert_exporter": "python",
   "pygments_lexer": "ipython3",
   "version": "3.9.1"
  }
 },
 "nbformat": 4,
 "nbformat_minor": 4
}
