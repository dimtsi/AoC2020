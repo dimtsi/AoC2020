{
 "cells": [
  {
   "cell_type": "code",
   "execution_count": 1,
   "metadata": {},
   "outputs": [],
   "source": [
    "with open('input.txt', \"r\") as f:\n",
    "    lines = f.read().rstrip().split(\"\\n\")\n",
    "    \n",
    "lines = list(map(lambda x: x.split(), lines))"
   ]
  },
  {
   "cell_type": "code",
   "execution_count": 3,
   "metadata": {
    "scrolled": false
   },
   "outputs": [
    {
     "name": "stdout",
     "output_type": "stream",
     "text": [
      "1134\n"
     ]
    }
   ],
   "source": [
    "count = 0 \n",
    "buf = []\n",
    "flag = False\n",
    "\n",
    "def run_comm(i):\n",
    "    \n",
    "    global buf, count, flag \n",
    "#     print(buf)\n",
    "#     print(count)\n",
    "    if i in buf:\n",
    "        flag = True\n",
    "        return True\n",
    "    if flag == True:\n",
    "        return True\n",
    "    comm = lines[i][0]\n",
    "    val = lines[i][1]\n",
    "    \n",
    "#     print(comm, val)\n",
    "    if comm == 'acc':\n",
    "        count += int(val)\n",
    "        buf.append(i)\n",
    "        run_comm(i+1)\n",
    "    elif comm == 'jmp':\n",
    "\n",
    "        buf.append(i)\n",
    "        run_comm(i+int(val))\n",
    "    elif comm == 'nop':\n",
    "        buf.append(i)\n",
    "        run_comm(i+1)\n",
    "        \n",
    "    \n",
    "run_comm(0)\n",
    "print(count)"
   ]
  },
  {
   "cell_type": "code",
   "execution_count": 4,
   "metadata": {},
   "outputs": [],
   "source": [
    "import copy\n",
    "\n",
    "lines_base = copy.deepcopy(lines)\n"
   ]
  },
  {
   "cell_type": "code",
   "execution_count": 13,
   "metadata": {},
   "outputs": [
    {
     "name": "stdout",
     "output_type": "stream",
     "text": [
      "worked\n",
      "1205\n"
     ]
    }
   ],
   "source": [
    "def run_comm(i, lines_mod):\n",
    "    global buf, count, flag \n",
    "    if i == len(lines)-1:\n",
    "        print(\"worked\")\n",
    "        print(count)\n",
    "    if i in buf:\n",
    "        flag = True\n",
    "        return True\n",
    "    if flag == True:\n",
    "        return True\n",
    "    comm = lines_mod[i][0]\n",
    "    val = lines_mod[i][1]\n",
    "    \n",
    "    if comm == 'acc':\n",
    "        count += int(val)\n",
    "        buf.append(i)\n",
    "        run_comm(i+1,lines_mod)\n",
    "    elif comm == 'jmp':\n",
    "\n",
    "        buf.append(i)\n",
    "        run_comm(i+int(val), lines_mod)\n",
    "    elif comm == 'nop':\n",
    "        buf.append(i)\n",
    "        run_comm(i+1, lines_mod)\n",
    "\n",
    "        \n",
    "\n",
    "for idx in range(len(lines)):\n",
    "    count = 0 \n",
    "    buf = []\n",
    "    flag = False\n",
    "    \n",
    "    lines = copy.deepcopy(lines_base)\n",
    "    if lines_base[idx][0] == \"jmp\":\n",
    "        lines[idx][0] = \"nop\"\n",
    "    elif lines_base[idx][0] == \"nop\":\n",
    "        lines[idx][0] = \"jmp\"\n",
    "    else: \n",
    "        continue\n",
    "        \n",
    "    try:\n",
    "        if run_comm(0, lines):\n",
    "            continue\n",
    "    except IndexError:\n",
    "        break\n",
    "        pass\n"
   ]
  }
 ],
 "metadata": {
  "kernelspec": {
   "display_name": "Python 3",
   "language": "python",
   "name": "python3"
  },
  "language_info": {
   "codemirror_mode": {
    "name": "ipython",
    "version": 3
   },
   "file_extension": ".py",
   "mimetype": "text/x-python",
   "name": "python",
   "nbconvert_exporter": "python",
   "pygments_lexer": "ipython3",
   "version": "3.7.9"
  }
 },
 "nbformat": 4,
 "nbformat_minor": 4
}
