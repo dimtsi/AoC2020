{
 "cells": [
  {
   "cell_type": "code",
   "execution_count": 50,
   "metadata": {},
   "outputs": [],
   "source": [
    "sample = [0,3,6]\n",
    "inp = [19,20,14,0,9,1]\n",
    "# inp = [0,3,6]\n"
   ]
  },
  {
   "cell_type": "code",
   "execution_count": 53,
   "metadata": {},
   "outputs": [],
   "source": [
    "from collections import deque"
   ]
  },
  {
   "cell_type": "code",
   "execution_count": 65,
   "metadata": {},
   "outputs": [
    {
     "name": "stdout",
     "output_type": "stream",
     "text": [
      "59006\n",
      "CPU times: user 38.9 s, sys: 1.83 s, total: 40.7 s\n",
      "Wall time: 41 s\n"
     ]
    }
   ],
   "source": [
    "%%time\n",
    "G = {k: deque([v+1]) for v, k in enumerate(inp[:-1])}\n",
    "\n",
    "spoken = inp[-1]\n",
    "\n",
    "for turn in range(len(inp), 30000000):\n",
    "\n",
    "    if spoken not in G.keys():\n",
    "        G[spoken] = deque([turn])\n",
    "        spoken = 0\n",
    "    else:\n",
    "        G[spoken].append(turn)\n",
    "        if len(G[spoken]) > 2:\n",
    "            G[spoken].popleft()\n",
    "   \n",
    "        spoken = G[spoken][-1] - G[spoken][-2]\n",
    "\n",
    "        \n",
    "print(spoken)"
   ]
  }
 ],
 "metadata": {
  "kernelspec": {
   "display_name": "Python 3.9",
   "language": "python",
   "name": "python39"
  },
  "language_info": {
   "codemirror_mode": {
    "name": "ipython",
    "version": 3
   },
   "file_extension": ".py",
   "mimetype": "text/x-python",
   "name": "python",
   "nbconvert_exporter": "python",
   "pygments_lexer": "ipython3",
   "version": "3.9.1"
  }
 },
 "nbformat": 4,
 "nbformat_minor": 4
}
