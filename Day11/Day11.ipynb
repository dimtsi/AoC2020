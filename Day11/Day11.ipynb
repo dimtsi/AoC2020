{
 "cells": [
  {
   "cell_type": "code",
   "execution_count": 23,
   "metadata": {},
   "outputs": [],
   "source": [
    "with open('input.txt', \"r\") as f:\n",
    "    lines = f.read().rstrip().split(\"\\n\")\n",
    "\n",
    "grid = list(map(list, lines))\n"
   ]
  },
  {
   "cell_type": "markdown",
   "metadata": {},
   "source": [
    "## Part 1"
   ]
  },
  {
   "cell_type": "code",
   "execution_count": 62,
   "metadata": {},
   "outputs": [
    {
     "data": {
      "text/plain": [
       "['L', 'L', 'L', 'L', 'L', 'L', 'L', 'L']"
      ]
     },
     "execution_count": 62,
     "metadata": {},
     "output_type": "execute_result"
    }
   ],
   "source": [
    "def get_neighbors(m, x, y):\n",
    "    neighbors = []\n",
    "    def append_if_exists(m, k, j):\n",
    "        if k < 0 or j < 0 or k >= len(m) or j >= len(m[0]):\n",
    "            return\n",
    "        neighbors.append(m[k][j])\n",
    "    \n",
    "    poss_neighbors = [(x, y+1),\n",
    "                      (x, y-1),\n",
    "                      (x+1, y),\n",
    "                      (x+1, y+1),\n",
    "                      (x+1, y-1),\n",
    "                      (x-1, y-1),\n",
    "                      (x-1, y),\n",
    "                      (x-1, y+1)\n",
    "                     ]\n",
    "\n",
    "    [append_if_exists(m, *neigh) for neigh in poss_neighbors]\n",
    "    return neighbors\n",
    "    \n",
    "get_neighbors(grid, 1, 5)  "
   ]
  },
  {
   "cell_type": "code",
   "execution_count": 63,
   "metadata": {},
   "outputs": [
    {
     "data": {
      "text/plain": [
       "Counter({'L': 3, '#': 0, '.': 0})"
      ]
     },
     "execution_count": 63,
     "metadata": {},
     "output_type": "execute_result"
    }
   ],
   "source": [
    "from collections import Counter\n",
    "\n",
    "def get_neighbor_counts(matrix, x, y, neighbor_func):\n",
    "    counts = Counter(neighbor_func(matrix, x, y))\n",
    "    poss_vals = {\"L\", \".\", \"#\"}\n",
    "    missing = poss_vals - set(counts.keys())\n",
    "    for miss in missing:\n",
    "        counts[miss] = 0\n",
    "    return counts\n",
    "\n",
    "get_neighbor_counts(grid, 0, 0, get_neighbors)"
   ]
  },
  {
   "cell_type": "code",
   "execution_count": 64,
   "metadata": {},
   "outputs": [
    {
     "data": {
      "text/plain": [
       "'#'"
      ]
     },
     "execution_count": 64,
     "metadata": {},
     "output_type": "execute_result"
    }
   ],
   "source": [
    "def get_new_status(m, x, y, neighbor_func, occupy_limit):\n",
    "    if m[x][y] == \".\":\n",
    "        return \".\"\n",
    "    neigh_counts = get_neighbor_counts(m, x, y, neighbor_func)\n",
    "    \n",
    "    if m[x][y] == \"L\" and neigh_counts[\"#\"] == 0:\n",
    "            return \"#\"\n",
    "        \n",
    "    elif m[x][y] == \"#\" and neigh_counts[\"#\"] >= occupy_limit:\n",
    "            return \"L\"\n",
    "    else:\n",
    "        return m[x][y]\n",
    "    \n",
    "get_new_status(grid, 0, 7, get_neighbors, 4)"
   ]
  },
  {
   "cell_type": "code",
   "execution_count": 65,
   "metadata": {},
   "outputs": [
    {
     "data": {
      "text/plain": [
       "2483"
      ]
     },
     "execution_count": 65,
     "metadata": {},
     "output_type": "execute_result"
    }
   ],
   "source": [
    "import copy\n",
    "\n",
    "def get_occupied_sum(matrix, get_neighbor_func, occupy_limit):\n",
    "    N, M = (len(matrix), len(matrix[0]))\n",
    "\n",
    "    previous = copy.deepcopy(matrix)\n",
    "    while(True):\n",
    "        total_changes = 0\n",
    "        new_grid = [['' for j in range(M)] for i in range(N)]\n",
    "        for i in range(N):\n",
    "            for j in range(M):\n",
    "                new_grid[i][j] = get_new_status(previous, i , j, get_neighbor_func, occupy_limit)\n",
    "                if new_grid[i][j] != previous[i][j]:\n",
    "                    total_changes += 1\n",
    "                    \n",
    "        previous = copy.deepcopy(new_grid)\n",
    "        if total_changes == 0:\n",
    "            break\n",
    "        \n",
    "    return sum(map(lambda x: Counter(x)[\"#\"], new_grid))\n",
    "                \n",
    "        \n",
    "get_occupied_sum(grid, \n",
    "                 get_neighbor_func=get_neighbors, \n",
    "                 occupy_limit=4)"
   ]
  },
  {
   "cell_type": "markdown",
   "metadata": {},
   "source": [
    "## Part 2"
   ]
  },
  {
   "cell_type": "code",
   "execution_count": 66,
   "metadata": {},
   "outputs": [],
   "source": [
    "def get_neighbors_non_adjacent(m, x, y):\n",
    "    neighbors = []\n",
    "    def append_if_exists(m, dx, dy):\n",
    "        while(True):\n",
    "            if x+dx < 0 or y+dy < 0 or x+dx >= len(m) or y+dy >= len(m[0]):\n",
    "                return\n",
    "            \n",
    "            val = m[x+dx][y+dy]\n",
    "            if val == \".\":\n",
    "                if dx > 0:\n",
    "                    dx +=1\n",
    "                elif dx < 0:\n",
    "                    dx -= 1\n",
    "                if dy > 0:\n",
    "                    dy +=1\n",
    "                elif dy < 0:\n",
    "                    dy -= 1 \n",
    "                continue\n",
    "            neighbors.append(val)\n",
    "            break\n",
    "    \n",
    "    increments = [(0, 1),\n",
    "                  (0, -1),\n",
    "                  (1, 0),\n",
    "                  (1, 1),\n",
    "                  (1, -1),\n",
    "                  (-1, -1),\n",
    "                  (-1, 0),\n",
    "                  (-1, +1)\n",
    "                 ]\n",
    "    [append_if_exists(m, *neigh) for neigh in increments]\n",
    "\n",
    "    return neighbors"
   ]
  },
  {
   "cell_type": "code",
   "execution_count": 67,
   "metadata": {},
   "outputs": [
    {
     "data": {
      "text/plain": [
       "2285"
      ]
     },
     "execution_count": 67,
     "metadata": {},
     "output_type": "execute_result"
    }
   ],
   "source": [
    "get_occupied_sum(grid, \n",
    "                 get_neighbor_func=get_neighbors_non_adjacent, \n",
    "                 occupy_limit=5)"
   ]
  }
 ],
 "metadata": {
  "kernelspec": {
   "display_name": "gaia-base",
   "language": "python",
   "name": "gaia-base"
  },
  "language_info": {
   "codemirror_mode": {
    "name": "ipython",
    "version": 3
   },
   "file_extension": ".py",
   "mimetype": "text/x-python",
   "name": "python",
   "nbconvert_exporter": "python",
   "pygments_lexer": "ipython3",
   "version": "3.7.9"
  }
 },
 "nbformat": 4,
 "nbformat_minor": 4
}
