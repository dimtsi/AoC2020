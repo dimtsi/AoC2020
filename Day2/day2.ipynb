{
 "cells": [
  {
   "cell_type": "code",
   "execution_count": 1,
   "metadata": {},
   "outputs": [
    {
     "data": {
      "text/plain": [
       "['1-5 k: kkkkhkkkkkkkkkk',\n",
       " '5-7 k: blkqhtxfgktdkxzkksk',\n",
       " '15-16 x: xxxxxxxxxxxxxxlf',\n",
       " '3-5 j: fjpvj',\n",
       " '17-20 x: zsxjrxkgxxxxxxxmxgxf']"
      ]
     },
     "execution_count": 1,
     "metadata": {},
     "output_type": "execute_result"
    }
   ],
   "source": [
    "with open('input.txt', \"r\") as f:\n",
    "    pwds = [line.rstrip() for line in f]\n",
    "pwds[:5]"
   ]
  },
  {
   "cell_type": "code",
   "execution_count": 9,
   "metadata": {},
   "outputs": [],
   "source": [
    "def count_char_occ_in_str(char, string):\n",
    "    count=0\n",
    "    for c in string:\n",
    "        if c==char:\n",
    "            count+=1\n",
    "    return count"
   ]
  },
  {
   "cell_type": "code",
   "execution_count": 11,
   "metadata": {},
   "outputs": [
    {
     "data": {
      "text/plain": [
       "519"
      ]
     },
     "execution_count": 11,
     "metadata": {},
     "output_type": "execute_result"
    }
   ],
   "source": [
    "valid_pwds=0\n",
    "for pwd in pwds:\n",
    "    limits, char, pwd = pwd.split(sep=\" \")\n",
    "    min_val, max_val = list(map(int, limits.split(sep=\"-\")))\n",
    "    char = char[0]\n",
    "    count = count_char_occ_in_str(char, pwd)\n",
    "    if count >= min_val and count <= max_val:\n",
    "        valid_pwds += 1\n",
    "        \n",
    "valid_pwds\n",
    "    "
   ]
  },
  {
   "cell_type": "code",
   "execution_count": 32,
   "metadata": {},
   "outputs": [],
   "source": [
    "def check_car_in_pos(char, pos1, pos2, string):\n",
    "    if string[pos1-1] == char:\n",
    "        pos1 = True\n",
    "    else:\n",
    "        pos1 = False\n",
    "    if string[pos2-1] == char:\n",
    "        pos2 = True\n",
    "    else:\n",
    "        pos2 = False\n",
    "    if pos1 and pos2:\n",
    "        return False\n",
    "    if (not pos1) and (not pos2):\n",
    "        return False\n",
    "    if pos1 and (not pos2):\n",
    "        return True\n",
    "    if pos2 and (not pos1): \n",
    "        return True"
   ]
  },
  {
   "cell_type": "code",
   "execution_count": 33,
   "metadata": {},
   "outputs": [
    {
     "data": {
      "text/plain": [
       "708"
      ]
     },
     "execution_count": 33,
     "metadata": {},
     "output_type": "execute_result"
    }
   ],
   "source": [
    "valid_pwds=0\n",
    "for pwd in pwds:\n",
    "    limits, char, pwd = pwd.split(sep=\" \")\n",
    "    pos1, pos2 = list(map(int, limits.split(sep=\"-\")))\n",
    "    char = char[0]\n",
    "    if check_car_in_pos(char, pos1, pos2, pwd):\n",
    "        valid_pwds += 1\n",
    "        \n",
    "valid_pwds"
   ]
  },
  {
   "cell_type": "code",
   "execution_count": 31,
   "metadata": {},
   "outputs": [
    {
     "name": "stdout",
     "output_type": "stream",
     "text": [
      "type3\n"
     ]
    },
    {
     "data": {
      "text/plain": [
       "True"
      ]
     },
     "execution_count": 31,
     "metadata": {},
     "output_type": "execute_result"
    }
   ],
   "source": [
    "check_car_in_pos('a',1,3,'abcde')"
   ]
  }
 ],
 "metadata": {
  "kernelspec": {
   "display_name": "gaia-base",
   "language": "python",
   "name": "gaia-base"
  },
  "language_info": {
   "codemirror_mode": {
    "name": "ipython",
    "version": 3
   },
   "file_extension": ".py",
   "mimetype": "text/x-python",
   "name": "python",
   "nbconvert_exporter": "python",
   "pygments_lexer": "ipython3",
   "version": "3.7.9"
  }
 },
 "nbformat": 4,
 "nbformat_minor": 4
}
